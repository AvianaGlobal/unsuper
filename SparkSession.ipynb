{
 "cells": [
  {
   "cell_type": "code",
   "execution_count": 2,
   "metadata": {
    "ExecuteTime": {
     "end_time": "2019-10-10T19:51:00.694688Z",
     "start_time": "2019-10-10T19:51:00.650892Z"
    },
    "pycharm": {
     "is_executing": true
    }
   },
   "outputs": [],
   "source": [
    "from pyspark.sql import SparkSession\n",
    "spark = SparkSession.builder.appName('unSuper').getOrCreate()"
   ]
  },
  {
   "cell_type": "code",
   "execution_count": 3,
   "metadata": {
    "ExecuteTime": {
     "end_time": "2019-10-10T19:53:54.963867Z",
     "start_time": "2019-10-10T19:51:00.697401Z"
    },
    "pycharm": {
     "is_executing": true
    }
   },
   "outputs": [],
   "source": [
    "invoices = spark.read.csv(\n",
    "    '/Users/mj/OneDrive - Aviana Global Technologies Inc/code/datasets/original/AvianaML_dbo_invoice.csv',\n",
    "    header=True, inferSchema=True)"
   ]
  },
  {
   "cell_type": "code",
   "execution_count": 4,
   "metadata": {
    "ExecuteTime": {
     "end_time": "2019-10-10T19:53:58.931439Z",
     "start_time": "2019-10-10T19:53:58.728367Z"
    },
    "pycharm": {
     "is_executing": true
    }
   },
   "outputs": [],
   "source": [
    "invoices.createOrReplaceTempView('invoices')"
   ]
  },
  {
   "cell_type": "code",
   "execution_count": 5,
   "metadata": {
    "ExecuteTime": {
     "end_time": "2019-10-10T19:55:45.250296Z",
     "start_time": "2019-10-10T19:54:09.551592Z"
    }
   },
   "outputs": [
    {
     "name": "stdout",
     "output_type": "stream",
     "text": [
      "+----------------+--------------------+----+------------------+-------------------+\n",
      "|       ProjectID|            Supplier|Year|Avg_Invoice_Amount|Total_Invoice_Count|\n",
      "+----------------+--------------------+----+------------------+-------------------+\n",
      "|   Anadarko_2014|TRANSOCEAN DEEPWA...|2013|     1.892445989E8|                 56|\n",
      "|   Anadarko_2014|BP AMERICA PRODUC...|2011|     7.934083274E7|                 58|\n",
      "|   Anadarko_2014|           SONATRACH|2013|     5.552295498E7|                 65|\n",
      "|   Anadarko_2014|DOLPHIN DRILLING LTD|2014|     4.632742989E7|                 82|\n",
      "|        ETP_2017|ENERGY TRANSFER E...|2016|     4.600396043E7|                 57|\n",
      "|   Anadarko_2018|           SONATRACH|2017|     4.584532274E7|                109|\n",
      "|     Tesoro_2014|BP OIL SUPPLY COM...|2013|     4.535619872E7|                135|\n",
      "|   Anadarko_2014| JPMORGAN CHASE BANK|2012|     4.310264617E7|                 59|\n",
      "|     Tesoro_2014|PETROCHINA INTERN...|2013|     2.309316016E7|                138|\n",
      "|   Anadarko_2014|    BANK OF NEW YORK|2014|     2.287151769E7|                 66|\n",
      "|   Anadarko_2014|      VETCO GRAY INC|2011|      2.25215514E7|                 93|\n",
      "|   Anadarko_2014|DOLPHIN DRILLING LTD|2011|      2.20543434E7|                 84|\n",
      "|        ETP_2016|CREDIT SUISSE USA...|2015|     2.173152342E7|                 59|\n",
      "|   Anadarko_2018|  COMPUTERSHARE INC.|2017|     2.086956731E7|                 52|\n",
      "|     Tesoro_2014|EXXONMOBIL ALASKA...|2013|     2.065060709E7|                 81|\n",
      "|     Tesoro_2014|RM-OFFSHORE TSO R...|2012|     2.047329266E7|                 76|\n",
      "|   Anadarko_2014|DOLPHIN DRILLING LTD|2013|     1.911915948E7|                123|\n",
      "|     Tesoro_2014|TAURUS PETROLEUM ...|2012|     1.887856081E7|                 65|\n",
      "|   Anadarko_2014|SCHLUMBERGER SLB ...|2011|     1.801416788E7|                 69|\n",
      "|MarathonOil_2013|CONTINENTAL RESOU...|2012|     1.775378915E7|                 57|\n",
      "+----------------+--------------------+----+------------------+-------------------+\n",
      "only showing top 20 rows\n",
      "\n"
     ]
    }
   ],
   "source": [
    "suppliers = spark.sql('''\n",
    "select * from (\n",
    "select ProjectID, \n",
    "`Vendor Name` as Supplier,\n",
    "cast(year(`Invoice Date`) as INT) as Year,\n",
    "round(avg(`Gross Invoice Amount`), 2) as Avg_Invoice_Amount,\n",
    "count(*) as Total_Invoice_Count\n",
    "from invoices\n",
    "group by ProjectID, `Vendor Name`, year(`Invoice Date`)) t\n",
    "where Total_Invoice_Count > 50\n",
    "order by Avg_Invoice_Amount desc\n",
    "''')\n",
    "suppliers.toPandas().to_csv('datasets/TopSuppliers.csv', index=False)\n",
    "suppliers.show()"
   ]
  },
  {
   "cell_type": "code",
   "execution_count": 8,
   "metadata": {
    "ExecuteTime": {
     "end_time": "2019-10-10T20:11:02.032070Z",
     "start_time": "2019-10-10T20:09:21.151935Z"
    },
    "scrolled": true
   },
   "outputs": [
    {
     "name": "stdout",
     "output_type": "stream",
     "text": [
      "+------------+--------------------+-------+----+-----+------------------+\n",
      "|   ProjectID|            Supplier|DocType|Year|Count|Avg_Invoice_Amount|\n",
      "+------------+--------------------+-------+----+-----+------------------+\n",
      "|Sanchez_2018|CORE-TECH WIRELIN...|  APINV|2018|  149|           1041.67|\n",
      "|Sanchez_2018|RDZ OILFIELD LEAS...|  APINV|2018|  160|            960.57|\n",
      "|Sanchez_2018| PLATINUM PTS II LLC|  APINV|2018|  193|           2571.32|\n",
      "|Sanchez_2018|     RIG RUNNERS INC|  APINV|2018|  192|           3145.88|\n",
      "|Sanchez_2018| BELL SUPPLY COMPANY|  APINV|2018|   87|          12635.16|\n",
      "|Sanchez_2018|  DETECHTION USA INC|  APINV|2018|   60|           3394.25|\n",
      "|Sanchez_2018|SPN WELL SERVICE ...|  APINV|2018|   85|           7670.76|\n",
      "|Sanchez_2018|PICO PROPANE OPER...|  APINV|2018|  177|            2060.2|\n",
      "|Sanchez_2018|BASIC ENERGY SERV...|  APINV|2018|  131|           3590.15|\n",
      "|Sanchez_2018|NOV LP - COMPLETI...|  APINV|2018|   71|            6101.5|\n",
      "|Sanchez_2018|BEAR CREEK SERVIC...|  APINV|2018|  148|          10627.58|\n",
      "|Sanchez_2018| RUSCO OPERATING LLC|  APINV|2018|  258|          11534.64|\n",
      "|Sanchez_2018|ROCKET FIELD SERV...|  APINV|2018|   99|           1261.08|\n",
      "|Sanchez_2018|CRAWFORD ELECTRIC...|  APINV|2018|  172|           2677.08|\n",
      "|Sanchez_2018|C&J SPEC-RENT SER...|  APINV|2018|  236|          48983.42|\n",
      "|Sanchez_2018|   JET SPECIALTY INC|  APINV|2018|  318|           2364.18|\n",
      "|Sanchez_2018|FTS INTERNATIONAL...|  APINV|2018|  259|          28995.01|\n",
      "|Sanchez_2018| PROFAB CONSTRUCTION|  APINV|2018|  778|           1797.77|\n",
      "|Sanchez_2018|WS ENERGY SERVICE...|  APINV|2018|  254|            2051.7|\n",
      "|Sanchez_2018|PETE DAILEY & ASS...|  APINV|2018|   63|           3165.79|\n",
      "+------------+--------------------+-------+----+-----+------------------+\n",
      "only showing top 20 rows\n",
      "\n"
     ]
    }
   ],
   "source": [
    "doctypes = spark.sql('''\n",
    "select * from (\n",
    "select ProjectID, \n",
    "`Vendor Name` as Supplier, \n",
    "`Document Type` as DocType, \n",
    "year(`Invoice Date`) as Year,\n",
    "count(*) as Count,\n",
    "round(avg(`Gross Invoice Amount`), 2) as Avg_Invoice_Amount\n",
    "from invoices \n",
    "group by ProjectID, `Vendor Name`, `Document Type`, year(`Invoice Date`)) t\n",
    "where Count > 50\n",
    "order by Year desc\n",
    "''')\n",
    "doctypes.toPandas().to_csv('datasets/TopDocTypes.csv', index=False)\n",
    "doctypes.show()"
   ]
  },
  {
   "cell_type": "code",
   "execution_count": 9,
   "metadata": {
    "ExecuteTime": {
     "end_time": "2019-10-10T20:12:17.699153Z",
     "start_time": "2019-10-10T20:11:02.035349Z"
    },
    "pycharm": {
     "is_executing": true
    }
   },
   "outputs": [
    {
     "name": "stdout",
     "output_type": "stream",
     "text": [
      "+--------------------+----+------------------+-------------------+\n",
      "|           ProjectID|Year|Avg_Invoice_Amount|Total_Invoice_Count|\n",
      "+--------------------+----+------------------+-------------------+\n",
      "|       Anadarko_2014|2011|         126405.18|             985129|\n",
      "|       Anadarko_2014|2013|           88269.3|            1158136|\n",
      "|       Anadarko_2014|2012|          87770.75|            1054107|\n",
      "|       Anadarko_2014|2014|          83507.56|             907977|\n",
      "|            ETP_2017|2016|          83215.21|             343188|\n",
      "|            ETP_2016|2015|           81827.3|             367371|\n",
      "|       Anadarko_2018|2017|          80426.09|             688051|\n",
      "|    NobleEnergy_2018|2017|          54034.81|             232092|\n",
      "|    MarathonOil_2013|2013|          51347.04|             201778|\n",
      "|            ETP_2016|2014|          47833.97|              32125|\n",
      "|    NobleEnergy_2018|2016|          41923.81|             200571|\n",
      "|         Tesoro_2014|2011|          41036.58|             527760|\n",
      "|       Williams_2017|2017|          39697.54|             131546|\n",
      "|            ETP_2017|2015|          39443.34|              25518|\n",
      "|ChevronPhillips_2012|2011|           35120.5|             310052|\n",
      "|       Williams_2017|2016|           35068.4|             311746|\n",
      "|       Williams_2017|2015|          34418.38|             401964|\n",
      "|ChevronPhillips_2012|2008|           33016.7|             284173|\n",
      "|         Tesoro_2014|2013|          29139.75|            2685165|\n",
      "|         Tesoro_2014|2012|          28798.81|            2181616|\n",
      "+--------------------+----+------------------+-------------------+\n",
      "only showing top 20 rows\n",
      "\n"
     ]
    }
   ],
   "source": [
    "projects = spark.sql('''\n",
    "select * from (\n",
    "select ProjectID, \n",
    "cast(year(`Invoice Date`) as INT) as Year, \n",
    "round(avg(`Gross Invoice Amount`), 2) as Avg_Invoice_Amount,\n",
    "count(*) as Total_Invoice_Count\n",
    "from invoices\n",
    "group by ProjectID, Year) t\n",
    "where Total_Invoice_Count > 100\n",
    "order by Avg_Invoice_Amount desc\n",
    "''')\n",
    "projects.toPandas().to_csv('datasets/TopProjects.csv', index=False)\n",
    "projects.show()"
   ]
  },
  {
   "cell_type": "code",
   "execution_count": 10,
   "metadata": {
    "ExecuteTime": {
     "end_time": "2019-10-10T20:22:08.546642Z",
     "start_time": "2019-10-10T20:21:34.762688Z"
    }
   },
   "outputs": [
    {
     "data": {
      "text/plain": [
       "48"
      ]
     },
     "execution_count": 10,
     "metadata": {},
     "output_type": "execute_result"
    }
   ],
   "source": [
    "projects.count()"
   ]
  },
  {
   "cell_type": "code",
   "execution_count": 11,
   "metadata": {
    "ExecuteTime": {
     "end_time": "2019-10-10T20:23:42.206343Z",
     "start_time": "2019-10-10T20:22:53.988374Z"
    }
   },
   "outputs": [
    {
     "data": {
      "text/plain": [
       "26441"
      ]
     },
     "execution_count": 11,
     "metadata": {},
     "output_type": "execute_result"
    }
   ],
   "source": [
    "suppliers.count()"
   ]
  },
  {
   "cell_type": "code",
   "execution_count": 12,
   "metadata": {
    "ExecuteTime": {
     "end_time": "2019-10-10T20:24:39.201852Z",
     "start_time": "2019-10-10T20:24:00.780928Z"
    }
   },
   "outputs": [
    {
     "data": {
      "text/plain": [
       "27541"
      ]
     },
     "execution_count": 12,
     "metadata": {},
     "output_type": "execute_result"
    }
   ],
   "source": [
    "doctypes.count()"
   ]
  }
 ],
 "metadata": {
  "kernelspec": {
   "display_name": "PyCharm (unsuper)",
   "language": "python",
   "name": "pycharm-ab3b66f8"
  },
  "language_info": {
   "codemirror_mode": {
    "name": "ipython",
    "version": 3
   },
   "file_extension": ".py",
   "mimetype": "text/x-python",
   "name": "python",
   "nbconvert_exporter": "python",
   "pygments_lexer": "ipython3",
   "version": "3.7.4"
  },
  "toc": {
   "base_numbering": 1,
   "nav_menu": {},
   "number_sections": true,
   "sideBar": true,
   "skip_h1_title": false,
   "title_cell": "Table of Contents",
   "title_sidebar": "Contents",
   "toc_cell": false,
   "toc_position": {},
   "toc_section_display": true,
   "toc_window_display": false
  }
 },
 "nbformat": 4,
 "nbformat_minor": 4
}
