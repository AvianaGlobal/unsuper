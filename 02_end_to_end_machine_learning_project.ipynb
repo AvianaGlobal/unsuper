{
 "cells": [
  {
   "cell_type": "code",
   "execution_count": 1,
   "metadata": {
    "ExecuteTime": {
     "end_time": "2019-10-10T06:44:59.233103Z",
     "start_time": "2019-10-10T06:44:58.065455Z"
    },
    "pycharm": {
     "is_executing": false
    }
   },
   "outputs": [
    {
     "name": "stderr",
     "output_type": "stream",
     "text": [
      "/anaconda3/envs/unsuper/lib/python3.7/site-packages/lightgbm/__init__.py:46: UserWarning: Starting from version 2.2.1, the library file in distribution wheels for macOS is built by the Apple Clang (Xcode_8.3.3) compiler.\n",
      "This means that in case of installing LightGBM from PyPI via the ``pip install lightgbm`` command, you don't need to install the gcc compiler anymore.\n",
      "Instead of that, you need to install the OpenMP library, which is required for running LightGBM on the system with the Apple Clang compiler.\n",
      "You can install the OpenMP library by the following command: ``brew install libomp``.\n",
      "  \"You can install the OpenMP library by the following command: ``brew install libomp``.\", UserWarning)\n"
     ]
    }
   ],
   "source": [
    "'''Main'''\n",
    "import numpy as np\n",
    "import pandas as pd\n",
    "import os\n",
    "\n",
    "'''Data Viz'''\n",
    "import matplotlib.pyplot as plt\n",
    "import seaborn as sns\n",
    "color = sns.color_palette()\n",
    "import matplotlib as mpl\n",
    "\n",
    "%matplotlib inline\n",
    "\n",
    "'''Data Prep'''\n",
    "from sklearn import preprocessing as pp \n",
    "from scipy.stats import pearsonr \n",
    "from sklearn.model_selection import train_test_split\n",
    "from sklearn.model_selection import StratifiedKFold \n",
    "from sklearn.metrics import log_loss \n",
    "from sklearn.metrics import precision_recall_curve, average_precision_score \n",
    "from sklearn.metrics import roc_curve, auc, roc_auc_score\n",
    "from sklearn.metrics import confusion_matrix, classification_report \n",
    "\n",
    "'''Algos'''\n",
    "from sklearn.linear_model import LogisticRegression\n",
    "from sklearn.ensemble import RandomForestClassifier\n",
    "import xgboost as xgb\n",
    "import lightgbm as lgb"
   ]
  },
  {
   "cell_type": "code",
   "execution_count": 2,
   "metadata": {
    "ExecuteTime": {
     "end_time": "2019-10-10T06:44:59.240380Z",
     "start_time": "2019-10-10T06:44:59.235654Z"
    },
    "pycharm": {
     "is_executing": false
    }
   },
   "outputs": [],
   "source": [
    "# Data Preparation"
   ]
  },
  {
   "cell_type": "code",
   "execution_count": 3,
   "metadata": {
    "ExecuteTime": {
     "end_time": "2019-10-10T06:45:01.341773Z",
     "start_time": "2019-10-10T06:44:59.243446Z"
    },
    "pycharm": {
     "is_executing": false
    }
   },
   "outputs": [],
   "source": [
    "# Acquire Data\n",
    "current_path = os.getcwd()\n",
    "file = '/datasets/credit_card_data/credit_card.csv'\n",
    "data = pd.read_csv(current_path + file)"
   ]
  },
  {
   "cell_type": "code",
   "execution_count": 4,
   "metadata": {
    "ExecuteTime": {
     "end_time": "2019-10-10T06:45:01.362539Z",
     "start_time": "2019-10-10T06:45:01.343879Z"
    },
    "pycharm": {
     "is_executing": false
    }
   },
   "outputs": [
    {
     "data": {
      "text/plain": [
       "(284807, 31)"
      ]
     },
     "execution_count": 4,
     "metadata": {},
     "output_type": "execute_result"
    }
   ],
   "source": [
    "# Explore Data\n",
    "data.shape"
   ]
  },
  {
   "cell_type": "code",
   "execution_count": 5,
   "metadata": {
    "ExecuteTime": {
     "end_time": "2019-10-10T06:45:01.412676Z",
     "start_time": "2019-10-10T06:45:01.366981Z"
    },
    "pycharm": {
     "is_executing": false
    },
    "scrolled": true
   },
   "outputs": [
    {
     "data": {
      "text/html": [
       "<div>\n",
       "<style scoped>\n",
       "    .dataframe tbody tr th:only-of-type {\n",
       "        vertical-align: middle;\n",
       "    }\n",
       "\n",
       "    .dataframe tbody tr th {\n",
       "        vertical-align: top;\n",
       "    }\n",
       "\n",
       "    .dataframe thead th {\n",
       "        text-align: right;\n",
       "    }\n",
       "</style>\n",
       "<table border=\"1\" class=\"dataframe\">\n",
       "  <thead>\n",
       "    <tr style=\"text-align: right;\">\n",
       "      <th></th>\n",
       "      <th>Time</th>\n",
       "      <th>V1</th>\n",
       "      <th>V2</th>\n",
       "      <th>V3</th>\n",
       "      <th>V4</th>\n",
       "      <th>V5</th>\n",
       "      <th>V6</th>\n",
       "      <th>V7</th>\n",
       "      <th>V8</th>\n",
       "      <th>V9</th>\n",
       "      <th>...</th>\n",
       "      <th>V21</th>\n",
       "      <th>V22</th>\n",
       "      <th>V23</th>\n",
       "      <th>V24</th>\n",
       "      <th>V25</th>\n",
       "      <th>V26</th>\n",
       "      <th>V27</th>\n",
       "      <th>V28</th>\n",
       "      <th>Amount</th>\n",
       "      <th>Class</th>\n",
       "    </tr>\n",
       "  </thead>\n",
       "  <tbody>\n",
       "    <tr>\n",
       "      <td>0</td>\n",
       "      <td>0.0</td>\n",
       "      <td>-1.359807</td>\n",
       "      <td>-0.072781</td>\n",
       "      <td>2.536347</td>\n",
       "      <td>1.378155</td>\n",
       "      <td>-0.338321</td>\n",
       "      <td>0.462388</td>\n",
       "      <td>0.239599</td>\n",
       "      <td>0.098698</td>\n",
       "      <td>0.363787</td>\n",
       "      <td>...</td>\n",
       "      <td>-0.018307</td>\n",
       "      <td>0.277838</td>\n",
       "      <td>-0.110474</td>\n",
       "      <td>0.066928</td>\n",
       "      <td>0.128539</td>\n",
       "      <td>-0.189115</td>\n",
       "      <td>0.133558</td>\n",
       "      <td>-0.021053</td>\n",
       "      <td>149.62</td>\n",
       "      <td>0</td>\n",
       "    </tr>\n",
       "    <tr>\n",
       "      <td>1</td>\n",
       "      <td>0.0</td>\n",
       "      <td>1.191857</td>\n",
       "      <td>0.266151</td>\n",
       "      <td>0.166480</td>\n",
       "      <td>0.448154</td>\n",
       "      <td>0.060018</td>\n",
       "      <td>-0.082361</td>\n",
       "      <td>-0.078803</td>\n",
       "      <td>0.085102</td>\n",
       "      <td>-0.255425</td>\n",
       "      <td>...</td>\n",
       "      <td>-0.225775</td>\n",
       "      <td>-0.638672</td>\n",
       "      <td>0.101288</td>\n",
       "      <td>-0.339846</td>\n",
       "      <td>0.167170</td>\n",
       "      <td>0.125895</td>\n",
       "      <td>-0.008983</td>\n",
       "      <td>0.014724</td>\n",
       "      <td>2.69</td>\n",
       "      <td>0</td>\n",
       "    </tr>\n",
       "    <tr>\n",
       "      <td>2</td>\n",
       "      <td>1.0</td>\n",
       "      <td>-1.358354</td>\n",
       "      <td>-1.340163</td>\n",
       "      <td>1.773209</td>\n",
       "      <td>0.379780</td>\n",
       "      <td>-0.503198</td>\n",
       "      <td>1.800499</td>\n",
       "      <td>0.791461</td>\n",
       "      <td>0.247676</td>\n",
       "      <td>-1.514654</td>\n",
       "      <td>...</td>\n",
       "      <td>0.247998</td>\n",
       "      <td>0.771679</td>\n",
       "      <td>0.909412</td>\n",
       "      <td>-0.689281</td>\n",
       "      <td>-0.327642</td>\n",
       "      <td>-0.139097</td>\n",
       "      <td>-0.055353</td>\n",
       "      <td>-0.059752</td>\n",
       "      <td>378.66</td>\n",
       "      <td>0</td>\n",
       "    </tr>\n",
       "    <tr>\n",
       "      <td>3</td>\n",
       "      <td>1.0</td>\n",
       "      <td>-0.966272</td>\n",
       "      <td>-0.185226</td>\n",
       "      <td>1.792993</td>\n",
       "      <td>-0.863291</td>\n",
       "      <td>-0.010309</td>\n",
       "      <td>1.247203</td>\n",
       "      <td>0.237609</td>\n",
       "      <td>0.377436</td>\n",
       "      <td>-1.387024</td>\n",
       "      <td>...</td>\n",
       "      <td>-0.108300</td>\n",
       "      <td>0.005274</td>\n",
       "      <td>-0.190321</td>\n",
       "      <td>-1.175575</td>\n",
       "      <td>0.647376</td>\n",
       "      <td>-0.221929</td>\n",
       "      <td>0.062723</td>\n",
       "      <td>0.061458</td>\n",
       "      <td>123.50</td>\n",
       "      <td>0</td>\n",
       "    </tr>\n",
       "    <tr>\n",
       "      <td>4</td>\n",
       "      <td>2.0</td>\n",
       "      <td>-1.158233</td>\n",
       "      <td>0.877737</td>\n",
       "      <td>1.548718</td>\n",
       "      <td>0.403034</td>\n",
       "      <td>-0.407193</td>\n",
       "      <td>0.095921</td>\n",
       "      <td>0.592941</td>\n",
       "      <td>-0.270533</td>\n",
       "      <td>0.817739</td>\n",
       "      <td>...</td>\n",
       "      <td>-0.009431</td>\n",
       "      <td>0.798278</td>\n",
       "      <td>-0.137458</td>\n",
       "      <td>0.141267</td>\n",
       "      <td>-0.206010</td>\n",
       "      <td>0.502292</td>\n",
       "      <td>0.219422</td>\n",
       "      <td>0.215153</td>\n",
       "      <td>69.99</td>\n",
       "      <td>0</td>\n",
       "    </tr>\n",
       "  </tbody>\n",
       "</table>\n",
       "<p>5 rows × 31 columns</p>\n",
       "</div>"
      ],
      "text/plain": [
       "   Time        V1        V2        V3        V4        V5        V6        V7  \\\n",
       "0   0.0 -1.359807 -0.072781  2.536347  1.378155 -0.338321  0.462388  0.239599   \n",
       "1   0.0  1.191857  0.266151  0.166480  0.448154  0.060018 -0.082361 -0.078803   \n",
       "2   1.0 -1.358354 -1.340163  1.773209  0.379780 -0.503198  1.800499  0.791461   \n",
       "3   1.0 -0.966272 -0.185226  1.792993 -0.863291 -0.010309  1.247203  0.237609   \n",
       "4   2.0 -1.158233  0.877737  1.548718  0.403034 -0.407193  0.095921  0.592941   \n",
       "\n",
       "         V8        V9  ...       V21       V22       V23       V24       V25  \\\n",
       "0  0.098698  0.363787  ... -0.018307  0.277838 -0.110474  0.066928  0.128539   \n",
       "1  0.085102 -0.255425  ... -0.225775 -0.638672  0.101288 -0.339846  0.167170   \n",
       "2  0.247676 -1.514654  ...  0.247998  0.771679  0.909412 -0.689281 -0.327642   \n",
       "3  0.377436 -1.387024  ... -0.108300  0.005274 -0.190321 -1.175575  0.647376   \n",
       "4 -0.270533  0.817739  ... -0.009431  0.798278 -0.137458  0.141267 -0.206010   \n",
       "\n",
       "        V26       V27       V28  Amount  Class  \n",
       "0 -0.189115  0.133558 -0.021053  149.62      0  \n",
       "1  0.125895 -0.008983  0.014724    2.69      0  \n",
       "2 -0.139097 -0.055353 -0.059752  378.66      0  \n",
       "3 -0.221929  0.062723  0.061458  123.50      0  \n",
       "4  0.502292  0.219422  0.215153   69.99      0  \n",
       "\n",
       "[5 rows x 31 columns]"
      ]
     },
     "execution_count": 5,
     "metadata": {},
     "output_type": "execute_result"
    }
   ],
   "source": [
    "data.head()"
   ]
  },
  {
   "cell_type": "code",
   "execution_count": 6,
   "metadata": {
    "ExecuteTime": {
     "end_time": "2019-10-10T06:45:02.033888Z",
     "start_time": "2019-10-10T06:45:01.414487Z"
    },
    "pycharm": {
     "is_executing": false
    }
   },
   "outputs": [
    {
     "data": {
      "text/html": [
       "<div>\n",
       "<style scoped>\n",
       "    .dataframe tbody tr th:only-of-type {\n",
       "        vertical-align: middle;\n",
       "    }\n",
       "\n",
       "    .dataframe tbody tr th {\n",
       "        vertical-align: top;\n",
       "    }\n",
       "\n",
       "    .dataframe thead th {\n",
       "        text-align: right;\n",
       "    }\n",
       "</style>\n",
       "<table border=\"1\" class=\"dataframe\">\n",
       "  <thead>\n",
       "    <tr style=\"text-align: right;\">\n",
       "      <th></th>\n",
       "      <th>Time</th>\n",
       "      <th>V1</th>\n",
       "      <th>V2</th>\n",
       "      <th>V3</th>\n",
       "      <th>V4</th>\n",
       "      <th>V5</th>\n",
       "      <th>V6</th>\n",
       "      <th>V7</th>\n",
       "      <th>V8</th>\n",
       "      <th>V9</th>\n",
       "      <th>...</th>\n",
       "      <th>V21</th>\n",
       "      <th>V22</th>\n",
       "      <th>V23</th>\n",
       "      <th>V24</th>\n",
       "      <th>V25</th>\n",
       "      <th>V26</th>\n",
       "      <th>V27</th>\n",
       "      <th>V28</th>\n",
       "      <th>Amount</th>\n",
       "      <th>Class</th>\n",
       "    </tr>\n",
       "  </thead>\n",
       "  <tbody>\n",
       "    <tr>\n",
       "      <td>count</td>\n",
       "      <td>284807.000000</td>\n",
       "      <td>2.848070e+05</td>\n",
       "      <td>2.848070e+05</td>\n",
       "      <td>2.848070e+05</td>\n",
       "      <td>2.848070e+05</td>\n",
       "      <td>2.848070e+05</td>\n",
       "      <td>2.848070e+05</td>\n",
       "      <td>2.848070e+05</td>\n",
       "      <td>2.848070e+05</td>\n",
       "      <td>2.848070e+05</td>\n",
       "      <td>...</td>\n",
       "      <td>2.848070e+05</td>\n",
       "      <td>2.848070e+05</td>\n",
       "      <td>2.848070e+05</td>\n",
       "      <td>2.848070e+05</td>\n",
       "      <td>2.848070e+05</td>\n",
       "      <td>2.848070e+05</td>\n",
       "      <td>2.848070e+05</td>\n",
       "      <td>2.848070e+05</td>\n",
       "      <td>284807.000000</td>\n",
       "      <td>284807.000000</td>\n",
       "    </tr>\n",
       "    <tr>\n",
       "      <td>mean</td>\n",
       "      <td>94813.859575</td>\n",
       "      <td>1.165980e-15</td>\n",
       "      <td>3.416908e-16</td>\n",
       "      <td>-1.373150e-15</td>\n",
       "      <td>2.086869e-15</td>\n",
       "      <td>9.604066e-16</td>\n",
       "      <td>1.490107e-15</td>\n",
       "      <td>-5.556467e-16</td>\n",
       "      <td>1.177556e-16</td>\n",
       "      <td>-2.406455e-15</td>\n",
       "      <td>...</td>\n",
       "      <td>1.656562e-16</td>\n",
       "      <td>-3.444850e-16</td>\n",
       "      <td>2.578648e-16</td>\n",
       "      <td>4.471968e-15</td>\n",
       "      <td>5.340915e-16</td>\n",
       "      <td>1.687098e-15</td>\n",
       "      <td>-3.666453e-16</td>\n",
       "      <td>-1.220404e-16</td>\n",
       "      <td>88.349619</td>\n",
       "      <td>0.001727</td>\n",
       "    </tr>\n",
       "    <tr>\n",
       "      <td>std</td>\n",
       "      <td>47488.145955</td>\n",
       "      <td>1.958696e+00</td>\n",
       "      <td>1.651309e+00</td>\n",
       "      <td>1.516255e+00</td>\n",
       "      <td>1.415869e+00</td>\n",
       "      <td>1.380247e+00</td>\n",
       "      <td>1.332271e+00</td>\n",
       "      <td>1.237094e+00</td>\n",
       "      <td>1.194353e+00</td>\n",
       "      <td>1.098632e+00</td>\n",
       "      <td>...</td>\n",
       "      <td>7.345240e-01</td>\n",
       "      <td>7.257016e-01</td>\n",
       "      <td>6.244603e-01</td>\n",
       "      <td>6.056471e-01</td>\n",
       "      <td>5.212781e-01</td>\n",
       "      <td>4.822270e-01</td>\n",
       "      <td>4.036325e-01</td>\n",
       "      <td>3.300833e-01</td>\n",
       "      <td>250.120109</td>\n",
       "      <td>0.041527</td>\n",
       "    </tr>\n",
       "    <tr>\n",
       "      <td>min</td>\n",
       "      <td>0.000000</td>\n",
       "      <td>-5.640751e+01</td>\n",
       "      <td>-7.271573e+01</td>\n",
       "      <td>-4.832559e+01</td>\n",
       "      <td>-5.683171e+00</td>\n",
       "      <td>-1.137433e+02</td>\n",
       "      <td>-2.616051e+01</td>\n",
       "      <td>-4.355724e+01</td>\n",
       "      <td>-7.321672e+01</td>\n",
       "      <td>-1.343407e+01</td>\n",
       "      <td>...</td>\n",
       "      <td>-3.483038e+01</td>\n",
       "      <td>-1.093314e+01</td>\n",
       "      <td>-4.480774e+01</td>\n",
       "      <td>-2.836627e+00</td>\n",
       "      <td>-1.029540e+01</td>\n",
       "      <td>-2.604551e+00</td>\n",
       "      <td>-2.256568e+01</td>\n",
       "      <td>-1.543008e+01</td>\n",
       "      <td>0.000000</td>\n",
       "      <td>0.000000</td>\n",
       "    </tr>\n",
       "    <tr>\n",
       "      <td>25%</td>\n",
       "      <td>54201.500000</td>\n",
       "      <td>-9.203734e-01</td>\n",
       "      <td>-5.985499e-01</td>\n",
       "      <td>-8.903648e-01</td>\n",
       "      <td>-8.486401e-01</td>\n",
       "      <td>-6.915971e-01</td>\n",
       "      <td>-7.682956e-01</td>\n",
       "      <td>-5.540759e-01</td>\n",
       "      <td>-2.086297e-01</td>\n",
       "      <td>-6.430976e-01</td>\n",
       "      <td>...</td>\n",
       "      <td>-2.283949e-01</td>\n",
       "      <td>-5.423504e-01</td>\n",
       "      <td>-1.618463e-01</td>\n",
       "      <td>-3.545861e-01</td>\n",
       "      <td>-3.171451e-01</td>\n",
       "      <td>-3.269839e-01</td>\n",
       "      <td>-7.083953e-02</td>\n",
       "      <td>-5.295979e-02</td>\n",
       "      <td>5.600000</td>\n",
       "      <td>0.000000</td>\n",
       "    </tr>\n",
       "    <tr>\n",
       "      <td>50%</td>\n",
       "      <td>84692.000000</td>\n",
       "      <td>1.810880e-02</td>\n",
       "      <td>6.548556e-02</td>\n",
       "      <td>1.798463e-01</td>\n",
       "      <td>-1.984653e-02</td>\n",
       "      <td>-5.433583e-02</td>\n",
       "      <td>-2.741871e-01</td>\n",
       "      <td>4.010308e-02</td>\n",
       "      <td>2.235804e-02</td>\n",
       "      <td>-5.142873e-02</td>\n",
       "      <td>...</td>\n",
       "      <td>-2.945017e-02</td>\n",
       "      <td>6.781943e-03</td>\n",
       "      <td>-1.119293e-02</td>\n",
       "      <td>4.097606e-02</td>\n",
       "      <td>1.659350e-02</td>\n",
       "      <td>-5.213911e-02</td>\n",
       "      <td>1.342146e-03</td>\n",
       "      <td>1.124383e-02</td>\n",
       "      <td>22.000000</td>\n",
       "      <td>0.000000</td>\n",
       "    </tr>\n",
       "    <tr>\n",
       "      <td>75%</td>\n",
       "      <td>139320.500000</td>\n",
       "      <td>1.315642e+00</td>\n",
       "      <td>8.037239e-01</td>\n",
       "      <td>1.027196e+00</td>\n",
       "      <td>7.433413e-01</td>\n",
       "      <td>6.119264e-01</td>\n",
       "      <td>3.985649e-01</td>\n",
       "      <td>5.704361e-01</td>\n",
       "      <td>3.273459e-01</td>\n",
       "      <td>5.971390e-01</td>\n",
       "      <td>...</td>\n",
       "      <td>1.863772e-01</td>\n",
       "      <td>5.285536e-01</td>\n",
       "      <td>1.476421e-01</td>\n",
       "      <td>4.395266e-01</td>\n",
       "      <td>3.507156e-01</td>\n",
       "      <td>2.409522e-01</td>\n",
       "      <td>9.104512e-02</td>\n",
       "      <td>7.827995e-02</td>\n",
       "      <td>77.165000</td>\n",
       "      <td>0.000000</td>\n",
       "    </tr>\n",
       "    <tr>\n",
       "      <td>max</td>\n",
       "      <td>172792.000000</td>\n",
       "      <td>2.454930e+00</td>\n",
       "      <td>2.205773e+01</td>\n",
       "      <td>9.382558e+00</td>\n",
       "      <td>1.687534e+01</td>\n",
       "      <td>3.480167e+01</td>\n",
       "      <td>7.330163e+01</td>\n",
       "      <td>1.205895e+02</td>\n",
       "      <td>2.000721e+01</td>\n",
       "      <td>1.559499e+01</td>\n",
       "      <td>...</td>\n",
       "      <td>2.720284e+01</td>\n",
       "      <td>1.050309e+01</td>\n",
       "      <td>2.252841e+01</td>\n",
       "      <td>4.584549e+00</td>\n",
       "      <td>7.519589e+00</td>\n",
       "      <td>3.517346e+00</td>\n",
       "      <td>3.161220e+01</td>\n",
       "      <td>3.384781e+01</td>\n",
       "      <td>25691.160000</td>\n",
       "      <td>1.000000</td>\n",
       "    </tr>\n",
       "  </tbody>\n",
       "</table>\n",
       "<p>8 rows × 31 columns</p>\n",
       "</div>"
      ],
      "text/plain": [
       "                Time            V1            V2            V3            V4  \\\n",
       "count  284807.000000  2.848070e+05  2.848070e+05  2.848070e+05  2.848070e+05   \n",
       "mean    94813.859575  1.165980e-15  3.416908e-16 -1.373150e-15  2.086869e-15   \n",
       "std     47488.145955  1.958696e+00  1.651309e+00  1.516255e+00  1.415869e+00   \n",
       "min         0.000000 -5.640751e+01 -7.271573e+01 -4.832559e+01 -5.683171e+00   \n",
       "25%     54201.500000 -9.203734e-01 -5.985499e-01 -8.903648e-01 -8.486401e-01   \n",
       "50%     84692.000000  1.810880e-02  6.548556e-02  1.798463e-01 -1.984653e-02   \n",
       "75%    139320.500000  1.315642e+00  8.037239e-01  1.027196e+00  7.433413e-01   \n",
       "max    172792.000000  2.454930e+00  2.205773e+01  9.382558e+00  1.687534e+01   \n",
       "\n",
       "                 V5            V6            V7            V8            V9  \\\n",
       "count  2.848070e+05  2.848070e+05  2.848070e+05  2.848070e+05  2.848070e+05   \n",
       "mean   9.604066e-16  1.490107e-15 -5.556467e-16  1.177556e-16 -2.406455e-15   \n",
       "std    1.380247e+00  1.332271e+00  1.237094e+00  1.194353e+00  1.098632e+00   \n",
       "min   -1.137433e+02 -2.616051e+01 -4.355724e+01 -7.321672e+01 -1.343407e+01   \n",
       "25%   -6.915971e-01 -7.682956e-01 -5.540759e-01 -2.086297e-01 -6.430976e-01   \n",
       "50%   -5.433583e-02 -2.741871e-01  4.010308e-02  2.235804e-02 -5.142873e-02   \n",
       "75%    6.119264e-01  3.985649e-01  5.704361e-01  3.273459e-01  5.971390e-01   \n",
       "max    3.480167e+01  7.330163e+01  1.205895e+02  2.000721e+01  1.559499e+01   \n",
       "\n",
       "       ...           V21           V22           V23           V24  \\\n",
       "count  ...  2.848070e+05  2.848070e+05  2.848070e+05  2.848070e+05   \n",
       "mean   ...  1.656562e-16 -3.444850e-16  2.578648e-16  4.471968e-15   \n",
       "std    ...  7.345240e-01  7.257016e-01  6.244603e-01  6.056471e-01   \n",
       "min    ... -3.483038e+01 -1.093314e+01 -4.480774e+01 -2.836627e+00   \n",
       "25%    ... -2.283949e-01 -5.423504e-01 -1.618463e-01 -3.545861e-01   \n",
       "50%    ... -2.945017e-02  6.781943e-03 -1.119293e-02  4.097606e-02   \n",
       "75%    ...  1.863772e-01  5.285536e-01  1.476421e-01  4.395266e-01   \n",
       "max    ...  2.720284e+01  1.050309e+01  2.252841e+01  4.584549e+00   \n",
       "\n",
       "                V25           V26           V27           V28         Amount  \\\n",
       "count  2.848070e+05  2.848070e+05  2.848070e+05  2.848070e+05  284807.000000   \n",
       "mean   5.340915e-16  1.687098e-15 -3.666453e-16 -1.220404e-16      88.349619   \n",
       "std    5.212781e-01  4.822270e-01  4.036325e-01  3.300833e-01     250.120109   \n",
       "min   -1.029540e+01 -2.604551e+00 -2.256568e+01 -1.543008e+01       0.000000   \n",
       "25%   -3.171451e-01 -3.269839e-01 -7.083953e-02 -5.295979e-02       5.600000   \n",
       "50%    1.659350e-02 -5.213911e-02  1.342146e-03  1.124383e-02      22.000000   \n",
       "75%    3.507156e-01  2.409522e-01  9.104512e-02  7.827995e-02      77.165000   \n",
       "max    7.519589e+00  3.517346e+00  3.161220e+01  3.384781e+01   25691.160000   \n",
       "\n",
       "               Class  \n",
       "count  284807.000000  \n",
       "mean        0.001727  \n",
       "std         0.041527  \n",
       "min         0.000000  \n",
       "25%         0.000000  \n",
       "50%         0.000000  \n",
       "75%         0.000000  \n",
       "max         1.000000  \n",
       "\n",
       "[8 rows x 31 columns]"
      ]
     },
     "execution_count": 6,
     "metadata": {},
     "output_type": "execute_result"
    }
   ],
   "source": [
    "data.describe()"
   ]
  },
  {
   "cell_type": "code",
   "execution_count": 7,
   "metadata": {
    "ExecuteTime": {
     "end_time": "2019-10-10T06:45:02.088370Z",
     "start_time": "2019-10-10T06:45:02.040493Z"
    },
    "pycharm": {
     "is_executing": false
    },
    "scrolled": true
   },
   "outputs": [
    {
     "data": {
      "text/plain": [
       "Index(['Time', 'V1', 'V2', 'V3', 'V4', 'V5', 'V6', 'V7', 'V8', 'V9', 'V10',\n",
       "       'V11', 'V12', 'V13', 'V14', 'V15', 'V16', 'V17', 'V18', 'V19', 'V20',\n",
       "       'V21', 'V22', 'V23', 'V24', 'V25', 'V26', 'V27', 'V28', 'Amount',\n",
       "       'Class'],\n",
       "      dtype='object')"
      ]
     },
     "execution_count": 7,
     "metadata": {},
     "output_type": "execute_result"
    }
   ],
   "source": [
    "data.columns"
   ]
  },
  {
   "cell_type": "code",
   "execution_count": 8,
   "metadata": {
    "ExecuteTime": {
     "end_time": "2019-10-10T06:45:02.110549Z",
     "start_time": "2019-10-10T06:45:02.095823Z"
    },
    "pycharm": {
     "is_executing": false
    }
   },
   "outputs": [
    {
     "name": "stdout",
     "output_type": "stream",
     "text": [
      "Number of fraudulent transactions: 492\n"
     ]
    }
   ],
   "source": [
    "print(\"Number of fraudulent transactions:\", data['Class'].sum())"
   ]
  },
  {
   "cell_type": "code",
   "execution_count": 9,
   "metadata": {
    "ExecuteTime": {
     "end_time": "2019-10-10T06:45:02.235168Z",
     "start_time": "2019-10-10T06:45:02.117052Z"
    },
    "pycharm": {
     "is_executing": false
    }
   },
   "outputs": [],
   "source": [
    "nanCounter = np.isnan(data).sum()"
   ]
  },
  {
   "cell_type": "code",
   "execution_count": 10,
   "metadata": {
    "ExecuteTime": {
     "end_time": "2019-10-10T06:45:02.250582Z",
     "start_time": "2019-10-10T06:45:02.237351Z"
    },
    "pycharm": {
     "is_executing": false
    },
    "scrolled": false
   },
   "outputs": [
    {
     "data": {
      "text/plain": [
       "Time      0\n",
       "V1        0\n",
       "V2        0\n",
       "V3        0\n",
       "V4        0\n",
       "V5        0\n",
       "V6        0\n",
       "V7        0\n",
       "V8        0\n",
       "V9        0\n",
       "V10       0\n",
       "V11       0\n",
       "V12       0\n",
       "V13       0\n",
       "V14       0\n",
       "V15       0\n",
       "V16       0\n",
       "V17       0\n",
       "V18       0\n",
       "V19       0\n",
       "V20       0\n",
       "V21       0\n",
       "V22       0\n",
       "V23       0\n",
       "V24       0\n",
       "V25       0\n",
       "V26       0\n",
       "V27       0\n",
       "V28       0\n",
       "Amount    0\n",
       "Class     0\n",
       "dtype: int64"
      ]
     },
     "execution_count": 10,
     "metadata": {},
     "output_type": "execute_result"
    }
   ],
   "source": [
    "nanCounter"
   ]
  },
  {
   "cell_type": "code",
   "execution_count": 11,
   "metadata": {
    "ExecuteTime": {
     "end_time": "2019-10-10T06:45:02.779515Z",
     "start_time": "2019-10-10T06:45:02.259766Z"
    },
    "pycharm": {
     "is_executing": false
    }
   },
   "outputs": [],
   "source": [
    "distinctCounter = data.apply(lambda x: len(x.unique()))"
   ]
  },
  {
   "cell_type": "code",
   "execution_count": 12,
   "metadata": {
    "ExecuteTime": {
     "end_time": "2019-10-10T06:45:02.806586Z",
     "start_time": "2019-10-10T06:45:02.792954Z"
    },
    "pycharm": {
     "is_executing": false
    }
   },
   "outputs": [
    {
     "data": {
      "text/plain": [
       "Time      124592\n",
       "V1        275663\n",
       "V2        275663\n",
       "V3        275663\n",
       "V4        275663\n",
       "V5        275663\n",
       "V6        275663\n",
       "V7        275663\n",
       "V8        275663\n",
       "V9        275663\n",
       "V10       275663\n",
       "V11       275663\n",
       "V12       275663\n",
       "V13       275663\n",
       "V14       275663\n",
       "V15       275663\n",
       "V16       275663\n",
       "V17       275663\n",
       "V18       275663\n",
       "V19       275663\n",
       "V20       275663\n",
       "V21       275663\n",
       "V22       275663\n",
       "V23       275663\n",
       "V24       275663\n",
       "V25       275663\n",
       "V26       275663\n",
       "V27       275663\n",
       "V28       275663\n",
       "Amount     32767\n",
       "Class          2\n",
       "dtype: int64"
      ]
     },
     "execution_count": 12,
     "metadata": {},
     "output_type": "execute_result"
    }
   ],
   "source": [
    "distinctCounter"
   ]
  },
  {
   "cell_type": "code",
   "execution_count": 13,
   "metadata": {
    "ExecuteTime": {
     "end_time": "2019-10-10T06:45:02.874356Z",
     "start_time": "2019-10-10T06:45:02.817355Z"
    },
    "pycharm": {
     "is_executing": false
    }
   },
   "outputs": [],
   "source": [
    "# Generate feature matrix and labels array\n",
    "dataX = data.copy().drop(['Class'],axis=1)\n",
    "dataY = data['Class'].copy()"
   ]
  },
  {
   "cell_type": "code",
   "execution_count": 14,
   "metadata": {
    "ExecuteTime": {
     "end_time": "2019-10-10T06:45:02.924340Z",
     "start_time": "2019-10-10T06:45:02.876480Z"
    },
    "pycharm": {
     "is_executing": false
    }
   },
   "outputs": [],
   "source": [
    "# Feature scaling\n",
    "featuresToScale = dataX.drop(['Time'],axis=1).columns"
   ]
  },
  {
   "cell_type": "code",
   "execution_count": 15,
   "metadata": {
    "ExecuteTime": {
     "end_time": "2019-10-10T06:45:02.953413Z",
     "start_time": "2019-10-10T06:45:02.928712Z"
    },
    "pycharm": {
     "is_executing": false
    }
   },
   "outputs": [
    {
     "data": {
      "text/plain": [
       "Index(['V1', 'V2', 'V3', 'V4', 'V5', 'V6', 'V7', 'V8', 'V9', 'V10', 'V11',\n",
       "       'V12', 'V13', 'V14', 'V15', 'V16', 'V17', 'V18', 'V19', 'V20', 'V21',\n",
       "       'V22', 'V23', 'V24', 'V25', 'V26', 'V27', 'V28', 'Amount'],\n",
       "      dtype='object')"
      ]
     },
     "execution_count": 15,
     "metadata": {},
     "output_type": "execute_result"
    }
   ],
   "source": [
    "featuresToScale"
   ]
  },
  {
   "cell_type": "code",
   "execution_count": 16,
   "metadata": {
    "ExecuteTime": {
     "end_time": "2019-10-10T06:45:03.343541Z",
     "start_time": "2019-10-10T06:45:02.957194Z"
    },
    "pycharm": {
     "is_executing": false
    }
   },
   "outputs": [],
   "source": [
    "sX = pp.StandardScaler(copy=True)\n",
    "dataX.loc[:,featuresToScale] = sX.fit_transform(dataX[featuresToScale])\n",
    "scalingFactors = pd.DataFrame(data=[sX.mean_,sX.scale_],index=['Mean','StDev'],columns=featuresToScale)"
   ]
  },
  {
   "cell_type": "code",
   "execution_count": 17,
   "metadata": {
    "ExecuteTime": {
     "end_time": "2019-10-10T06:45:03.408732Z",
     "start_time": "2019-10-10T06:45:03.345685Z"
    },
    "pycharm": {
     "is_executing": false
    }
   },
   "outputs": [
    {
     "data": {
      "text/html": [
       "<div>\n",
       "<style scoped>\n",
       "    .dataframe tbody tr th:only-of-type {\n",
       "        vertical-align: middle;\n",
       "    }\n",
       "\n",
       "    .dataframe tbody tr th {\n",
       "        vertical-align: top;\n",
       "    }\n",
       "\n",
       "    .dataframe thead th {\n",
       "        text-align: right;\n",
       "    }\n",
       "</style>\n",
       "<table border=\"1\" class=\"dataframe\">\n",
       "  <thead>\n",
       "    <tr style=\"text-align: right;\">\n",
       "      <th></th>\n",
       "      <th>V1</th>\n",
       "      <th>V2</th>\n",
       "      <th>V3</th>\n",
       "      <th>V4</th>\n",
       "      <th>V5</th>\n",
       "      <th>V6</th>\n",
       "      <th>V7</th>\n",
       "      <th>V8</th>\n",
       "      <th>V9</th>\n",
       "      <th>V10</th>\n",
       "      <th>...</th>\n",
       "      <th>V20</th>\n",
       "      <th>V21</th>\n",
       "      <th>V22</th>\n",
       "      <th>V23</th>\n",
       "      <th>V24</th>\n",
       "      <th>V25</th>\n",
       "      <th>V26</th>\n",
       "      <th>V27</th>\n",
       "      <th>V28</th>\n",
       "      <th>Amount</th>\n",
       "    </tr>\n",
       "  </thead>\n",
       "  <tbody>\n",
       "    <tr>\n",
       "      <td>Mean</td>\n",
       "      <td>1.165980e-15</td>\n",
       "      <td>3.416908e-16</td>\n",
       "      <td>-1.373150e-15</td>\n",
       "      <td>2.086869e-15</td>\n",
       "      <td>9.604066e-16</td>\n",
       "      <td>1.490107e-15</td>\n",
       "      <td>-5.556467e-16</td>\n",
       "      <td>1.177556e-16</td>\n",
       "      <td>-2.406455e-15</td>\n",
       "      <td>2.239751e-15</td>\n",
       "      <td>...</td>\n",
       "      <td>6.406703e-16</td>\n",
       "      <td>1.656562e-16</td>\n",
       "      <td>-3.444850e-16</td>\n",
       "      <td>2.578648e-16</td>\n",
       "      <td>4.471968e-15</td>\n",
       "      <td>5.340915e-16</td>\n",
       "      <td>1.687098e-15</td>\n",
       "      <td>-3.666453e-16</td>\n",
       "      <td>-1.220404e-16</td>\n",
       "      <td>88.349619</td>\n",
       "    </tr>\n",
       "    <tr>\n",
       "      <td>StDev</td>\n",
       "      <td>1.958692e+00</td>\n",
       "      <td>1.651306e+00</td>\n",
       "      <td>1.516252e+00</td>\n",
       "      <td>1.415866e+00</td>\n",
       "      <td>1.380244e+00</td>\n",
       "      <td>1.332269e+00</td>\n",
       "      <td>1.237091e+00</td>\n",
       "      <td>1.194351e+00</td>\n",
       "      <td>1.098630e+00</td>\n",
       "      <td>1.088848e+00</td>\n",
       "      <td>...</td>\n",
       "      <td>7.709237e-01</td>\n",
       "      <td>7.345227e-01</td>\n",
       "      <td>7.257003e-01</td>\n",
       "      <td>6.244592e-01</td>\n",
       "      <td>6.056460e-01</td>\n",
       "      <td>5.212772e-01</td>\n",
       "      <td>4.822262e-01</td>\n",
       "      <td>4.036318e-01</td>\n",
       "      <td>3.300827e-01</td>\n",
       "      <td>250.119670</td>\n",
       "    </tr>\n",
       "  </tbody>\n",
       "</table>\n",
       "<p>2 rows × 29 columns</p>\n",
       "</div>"
      ],
      "text/plain": [
       "                 V1            V2            V3            V4            V5  \\\n",
       "Mean   1.165980e-15  3.416908e-16 -1.373150e-15  2.086869e-15  9.604066e-16   \n",
       "StDev  1.958692e+00  1.651306e+00  1.516252e+00  1.415866e+00  1.380244e+00   \n",
       "\n",
       "                 V6            V7            V8            V9           V10  \\\n",
       "Mean   1.490107e-15 -5.556467e-16  1.177556e-16 -2.406455e-15  2.239751e-15   \n",
       "StDev  1.332269e+00  1.237091e+00  1.194351e+00  1.098630e+00  1.088848e+00   \n",
       "\n",
       "       ...           V20           V21           V22           V23  \\\n",
       "Mean   ...  6.406703e-16  1.656562e-16 -3.444850e-16  2.578648e-16   \n",
       "StDev  ...  7.709237e-01  7.345227e-01  7.257003e-01  6.244592e-01   \n",
       "\n",
       "                V24           V25           V26           V27           V28  \\\n",
       "Mean   4.471968e-15  5.340915e-16  1.687098e-15 -3.666453e-16 -1.220404e-16   \n",
       "StDev  6.056460e-01  5.212772e-01  4.822262e-01  4.036318e-01  3.300827e-01   \n",
       "\n",
       "           Amount  \n",
       "Mean    88.349619  \n",
       "StDev  250.119670  \n",
       "\n",
       "[2 rows x 29 columns]"
      ]
     },
     "execution_count": 17,
     "metadata": {},
     "output_type": "execute_result"
    }
   ],
   "source": [
    "scalingFactors"
   ]
  },
  {
   "cell_type": "code",
   "execution_count": 18,
   "metadata": {
    "ExecuteTime": {
     "end_time": "2019-10-10T06:45:03.984570Z",
     "start_time": "2019-10-10T06:45:03.412626Z"
    },
    "pycharm": {
     "is_executing": false
    },
    "scrolled": false
   },
   "outputs": [
    {
     "data": {
      "text/html": [
       "<div>\n",
       "<style scoped>\n",
       "    .dataframe tbody tr th:only-of-type {\n",
       "        vertical-align: middle;\n",
       "    }\n",
       "\n",
       "    .dataframe tbody tr th {\n",
       "        vertical-align: top;\n",
       "    }\n",
       "\n",
       "    .dataframe thead th {\n",
       "        text-align: right;\n",
       "    }\n",
       "</style>\n",
       "<table border=\"1\" class=\"dataframe\">\n",
       "  <thead>\n",
       "    <tr style=\"text-align: right;\">\n",
       "      <th></th>\n",
       "      <th>Time</th>\n",
       "      <th>V1</th>\n",
       "      <th>V2</th>\n",
       "      <th>V3</th>\n",
       "      <th>V4</th>\n",
       "      <th>V5</th>\n",
       "      <th>V6</th>\n",
       "      <th>V7</th>\n",
       "      <th>V8</th>\n",
       "      <th>V9</th>\n",
       "      <th>...</th>\n",
       "      <th>V20</th>\n",
       "      <th>V21</th>\n",
       "      <th>V22</th>\n",
       "      <th>V23</th>\n",
       "      <th>V24</th>\n",
       "      <th>V25</th>\n",
       "      <th>V26</th>\n",
       "      <th>V27</th>\n",
       "      <th>V28</th>\n",
       "      <th>Amount</th>\n",
       "    </tr>\n",
       "  </thead>\n",
       "  <tbody>\n",
       "    <tr>\n",
       "      <td>count</td>\n",
       "      <td>284807.000000</td>\n",
       "      <td>2.848070e+05</td>\n",
       "      <td>2.848070e+05</td>\n",
       "      <td>2.848070e+05</td>\n",
       "      <td>2.848070e+05</td>\n",
       "      <td>2.848070e+05</td>\n",
       "      <td>2.848070e+05</td>\n",
       "      <td>2.848070e+05</td>\n",
       "      <td>2.848070e+05</td>\n",
       "      <td>2.848070e+05</td>\n",
       "      <td>...</td>\n",
       "      <td>2.848070e+05</td>\n",
       "      <td>2.848070e+05</td>\n",
       "      <td>2.848070e+05</td>\n",
       "      <td>2.848070e+05</td>\n",
       "      <td>2.848070e+05</td>\n",
       "      <td>2.848070e+05</td>\n",
       "      <td>2.848070e+05</td>\n",
       "      <td>2.848070e+05</td>\n",
       "      <td>2.848070e+05</td>\n",
       "      <td>2.848070e+05</td>\n",
       "    </tr>\n",
       "    <tr>\n",
       "      <td>mean</td>\n",
       "      <td>94813.859575</td>\n",
       "      <td>-8.881566e-18</td>\n",
       "      <td>-1.277349e-17</td>\n",
       "      <td>-4.790058e-17</td>\n",
       "      <td>-1.955940e-17</td>\n",
       "      <td>3.832046e-17</td>\n",
       "      <td>9.979288e-18</td>\n",
       "      <td>1.476935e-17</td>\n",
       "      <td>3.293165e-18</td>\n",
       "      <td>9.979288e-20</td>\n",
       "      <td>...</td>\n",
       "      <td>-7.035398e-18</td>\n",
       "      <td>-4.989644e-19</td>\n",
       "      <td>2.794201e-18</td>\n",
       "      <td>9.380530e-18</td>\n",
       "      <td>1.117680e-17</td>\n",
       "      <td>-5.109395e-17</td>\n",
       "      <td>7.946008e-18</td>\n",
       "      <td>1.234937e-18</td>\n",
       "      <td>-6.336848e-18</td>\n",
       "      <td>2.913952e-17</td>\n",
       "    </tr>\n",
       "    <tr>\n",
       "      <td>std</td>\n",
       "      <td>47488.145955</td>\n",
       "      <td>1.000002e+00</td>\n",
       "      <td>1.000002e+00</td>\n",
       "      <td>1.000002e+00</td>\n",
       "      <td>1.000002e+00</td>\n",
       "      <td>1.000002e+00</td>\n",
       "      <td>1.000002e+00</td>\n",
       "      <td>1.000002e+00</td>\n",
       "      <td>1.000002e+00</td>\n",
       "      <td>1.000002e+00</td>\n",
       "      <td>...</td>\n",
       "      <td>1.000002e+00</td>\n",
       "      <td>1.000002e+00</td>\n",
       "      <td>1.000002e+00</td>\n",
       "      <td>1.000002e+00</td>\n",
       "      <td>1.000002e+00</td>\n",
       "      <td>1.000002e+00</td>\n",
       "      <td>1.000002e+00</td>\n",
       "      <td>1.000002e+00</td>\n",
       "      <td>1.000002e+00</td>\n",
       "      <td>1.000002e+00</td>\n",
       "    </tr>\n",
       "    <tr>\n",
       "      <td>min</td>\n",
       "      <td>0.000000</td>\n",
       "      <td>-2.879855e+01</td>\n",
       "      <td>-4.403529e+01</td>\n",
       "      <td>-3.187173e+01</td>\n",
       "      <td>-4.013919e+00</td>\n",
       "      <td>-8.240810e+01</td>\n",
       "      <td>-1.963606e+01</td>\n",
       "      <td>-3.520940e+01</td>\n",
       "      <td>-6.130252e+01</td>\n",
       "      <td>-1.222802e+01</td>\n",
       "      <td>...</td>\n",
       "      <td>-7.069146e+01</td>\n",
       "      <td>-4.741907e+01</td>\n",
       "      <td>-1.506565e+01</td>\n",
       "      <td>-7.175446e+01</td>\n",
       "      <td>-4.683638e+00</td>\n",
       "      <td>-1.975033e+01</td>\n",
       "      <td>-5.401098e+00</td>\n",
       "      <td>-5.590660e+01</td>\n",
       "      <td>-4.674612e+01</td>\n",
       "      <td>-3.532294e-01</td>\n",
       "    </tr>\n",
       "    <tr>\n",
       "      <td>25%</td>\n",
       "      <td>54201.500000</td>\n",
       "      <td>-4.698918e-01</td>\n",
       "      <td>-3.624707e-01</td>\n",
       "      <td>-5.872142e-01</td>\n",
       "      <td>-5.993788e-01</td>\n",
       "      <td>-5.010686e-01</td>\n",
       "      <td>-5.766822e-01</td>\n",
       "      <td>-4.478860e-01</td>\n",
       "      <td>-1.746805e-01</td>\n",
       "      <td>-5.853631e-01</td>\n",
       "      <td>...</td>\n",
       "      <td>-2.746334e-01</td>\n",
       "      <td>-3.109433e-01</td>\n",
       "      <td>-7.473476e-01</td>\n",
       "      <td>-2.591784e-01</td>\n",
       "      <td>-5.854676e-01</td>\n",
       "      <td>-6.084001e-01</td>\n",
       "      <td>-6.780717e-01</td>\n",
       "      <td>-1.755053e-01</td>\n",
       "      <td>-1.604440e-01</td>\n",
       "      <td>-3.308401e-01</td>\n",
       "    </tr>\n",
       "    <tr>\n",
       "      <td>50%</td>\n",
       "      <td>84692.000000</td>\n",
       "      <td>9.245351e-03</td>\n",
       "      <td>3.965683e-02</td>\n",
       "      <td>1.186124e-01</td>\n",
       "      <td>-1.401724e-02</td>\n",
       "      <td>-3.936682e-02</td>\n",
       "      <td>-2.058046e-01</td>\n",
       "      <td>3.241723e-02</td>\n",
       "      <td>1.871982e-02</td>\n",
       "      <td>-4.681169e-02</td>\n",
       "      <td>...</td>\n",
       "      <td>-8.104705e-02</td>\n",
       "      <td>-4.009429e-02</td>\n",
       "      <td>9.345377e-03</td>\n",
       "      <td>-1.792420e-02</td>\n",
       "      <td>6.765678e-02</td>\n",
       "      <td>3.183240e-02</td>\n",
       "      <td>-1.081217e-01</td>\n",
       "      <td>3.325174e-03</td>\n",
       "      <td>3.406368e-02</td>\n",
       "      <td>-2.652715e-01</td>\n",
       "    </tr>\n",
       "    <tr>\n",
       "      <td>75%</td>\n",
       "      <td>139320.500000</td>\n",
       "      <td>6.716939e-01</td>\n",
       "      <td>4.867202e-01</td>\n",
       "      <td>6.774569e-01</td>\n",
       "      <td>5.250082e-01</td>\n",
       "      <td>4.433465e-01</td>\n",
       "      <td>2.991625e-01</td>\n",
       "      <td>4.611107e-01</td>\n",
       "      <td>2.740785e-01</td>\n",
       "      <td>5.435305e-01</td>\n",
       "      <td>...</td>\n",
       "      <td>1.725733e-01</td>\n",
       "      <td>2.537392e-01</td>\n",
       "      <td>7.283360e-01</td>\n",
       "      <td>2.364319e-01</td>\n",
       "      <td>7.257153e-01</td>\n",
       "      <td>6.728006e-01</td>\n",
       "      <td>4.996663e-01</td>\n",
       "      <td>2.255648e-01</td>\n",
       "      <td>2.371526e-01</td>\n",
       "      <td>-4.471707e-02</td>\n",
       "    </tr>\n",
       "    <tr>\n",
       "      <td>max</td>\n",
       "      <td>172792.000000</td>\n",
       "      <td>1.253351e+00</td>\n",
       "      <td>1.335775e+01</td>\n",
       "      <td>6.187993e+00</td>\n",
       "      <td>1.191874e+01</td>\n",
       "      <td>2.521413e+01</td>\n",
       "      <td>5.502015e+01</td>\n",
       "      <td>9.747824e+01</td>\n",
       "      <td>1.675153e+01</td>\n",
       "      <td>1.419494e+01</td>\n",
       "      <td>...</td>\n",
       "      <td>5.113464e+01</td>\n",
       "      <td>3.703471e+01</td>\n",
       "      <td>1.447304e+01</td>\n",
       "      <td>3.607668e+01</td>\n",
       "      <td>7.569684e+00</td>\n",
       "      <td>1.442532e+01</td>\n",
       "      <td>7.293975e+00</td>\n",
       "      <td>7.831940e+01</td>\n",
       "      <td>1.025434e+02</td>\n",
       "      <td>1.023622e+02</td>\n",
       "    </tr>\n",
       "  </tbody>\n",
       "</table>\n",
       "<p>8 rows × 30 columns</p>\n",
       "</div>"
      ],
      "text/plain": [
       "                Time            V1            V2            V3            V4  \\\n",
       "count  284807.000000  2.848070e+05  2.848070e+05  2.848070e+05  2.848070e+05   \n",
       "mean    94813.859575 -8.881566e-18 -1.277349e-17 -4.790058e-17 -1.955940e-17   \n",
       "std     47488.145955  1.000002e+00  1.000002e+00  1.000002e+00  1.000002e+00   \n",
       "min         0.000000 -2.879855e+01 -4.403529e+01 -3.187173e+01 -4.013919e+00   \n",
       "25%     54201.500000 -4.698918e-01 -3.624707e-01 -5.872142e-01 -5.993788e-01   \n",
       "50%     84692.000000  9.245351e-03  3.965683e-02  1.186124e-01 -1.401724e-02   \n",
       "75%    139320.500000  6.716939e-01  4.867202e-01  6.774569e-01  5.250082e-01   \n",
       "max    172792.000000  1.253351e+00  1.335775e+01  6.187993e+00  1.191874e+01   \n",
       "\n",
       "                 V5            V6            V7            V8            V9  \\\n",
       "count  2.848070e+05  2.848070e+05  2.848070e+05  2.848070e+05  2.848070e+05   \n",
       "mean   3.832046e-17  9.979288e-18  1.476935e-17  3.293165e-18  9.979288e-20   \n",
       "std    1.000002e+00  1.000002e+00  1.000002e+00  1.000002e+00  1.000002e+00   \n",
       "min   -8.240810e+01 -1.963606e+01 -3.520940e+01 -6.130252e+01 -1.222802e+01   \n",
       "25%   -5.010686e-01 -5.766822e-01 -4.478860e-01 -1.746805e-01 -5.853631e-01   \n",
       "50%   -3.936682e-02 -2.058046e-01  3.241723e-02  1.871982e-02 -4.681169e-02   \n",
       "75%    4.433465e-01  2.991625e-01  4.611107e-01  2.740785e-01  5.435305e-01   \n",
       "max    2.521413e+01  5.502015e+01  9.747824e+01  1.675153e+01  1.419494e+01   \n",
       "\n",
       "       ...           V20           V21           V22           V23  \\\n",
       "count  ...  2.848070e+05  2.848070e+05  2.848070e+05  2.848070e+05   \n",
       "mean   ... -7.035398e-18 -4.989644e-19  2.794201e-18  9.380530e-18   \n",
       "std    ...  1.000002e+00  1.000002e+00  1.000002e+00  1.000002e+00   \n",
       "min    ... -7.069146e+01 -4.741907e+01 -1.506565e+01 -7.175446e+01   \n",
       "25%    ... -2.746334e-01 -3.109433e-01 -7.473476e-01 -2.591784e-01   \n",
       "50%    ... -8.104705e-02 -4.009429e-02  9.345377e-03 -1.792420e-02   \n",
       "75%    ...  1.725733e-01  2.537392e-01  7.283360e-01  2.364319e-01   \n",
       "max    ...  5.113464e+01  3.703471e+01  1.447304e+01  3.607668e+01   \n",
       "\n",
       "                V24           V25           V26           V27           V28  \\\n",
       "count  2.848070e+05  2.848070e+05  2.848070e+05  2.848070e+05  2.848070e+05   \n",
       "mean   1.117680e-17 -5.109395e-17  7.946008e-18  1.234937e-18 -6.336848e-18   \n",
       "std    1.000002e+00  1.000002e+00  1.000002e+00  1.000002e+00  1.000002e+00   \n",
       "min   -4.683638e+00 -1.975033e+01 -5.401098e+00 -5.590660e+01 -4.674612e+01   \n",
       "25%   -5.854676e-01 -6.084001e-01 -6.780717e-01 -1.755053e-01 -1.604440e-01   \n",
       "50%    6.765678e-02  3.183240e-02 -1.081217e-01  3.325174e-03  3.406368e-02   \n",
       "75%    7.257153e-01  6.728006e-01  4.996663e-01  2.255648e-01  2.371526e-01   \n",
       "max    7.569684e+00  1.442532e+01  7.293975e+00  7.831940e+01  1.025434e+02   \n",
       "\n",
       "             Amount  \n",
       "count  2.848070e+05  \n",
       "mean   2.913952e-17  \n",
       "std    1.000002e+00  \n",
       "min   -3.532294e-01  \n",
       "25%   -3.308401e-01  \n",
       "50%   -2.652715e-01  \n",
       "75%   -4.471707e-02  \n",
       "max    1.023622e+02  \n",
       "\n",
       "[8 rows x 30 columns]"
      ]
     },
     "execution_count": 18,
     "metadata": {},
     "output_type": "execute_result"
    }
   ],
   "source": [
    "dataX.describe()"
   ]
  },
  {
   "cell_type": "code",
   "execution_count": 19,
   "metadata": {
    "ExecuteTime": {
     "end_time": "2019-10-10T06:45:10.674843Z",
     "start_time": "2019-10-10T06:45:03.989520Z"
    },
    "pycharm": {
     "is_executing": false
    }
   },
   "outputs": [],
   "source": [
    "correlationMatrix = pd.DataFrame(data=[],index=dataX.columns,columns=dataX.columns)\n",
    "for i in dataX.columns:\n",
    "    for j in dataX.columns:\n",
    "        correlationMatrix.loc[i,j] = np.round(pearsonr(dataX.loc[:,i],dataX.loc[:,j])[0],2)"
   ]
  },
  {
   "cell_type": "code",
   "execution_count": 20,
   "metadata": {
    "ExecuteTime": {
     "end_time": "2019-10-10T06:45:10.700327Z",
     "start_time": "2019-10-10T06:45:10.676687Z"
    },
    "pycharm": {
     "is_executing": false
    }
   },
   "outputs": [],
   "source": [
    "correlation_file = '\\\\datasets\\\\credit_card_data\\\\correlationMatrix.csv'\n",
    "correlationMatrix.to_csv(current_path+correlation_file)"
   ]
  },
  {
   "cell_type": "code",
   "execution_count": 21,
   "metadata": {
    "ExecuteTime": {
     "end_time": "2019-10-10T06:45:10.965760Z",
     "start_time": "2019-10-10T06:45:10.702894Z"
    },
    "pycharm": {
     "is_executing": false
    }
   },
   "outputs": [
    {
     "data": {
      "text/plain": [
       "Text(0, 0.5, 'Frequency Percentage')"
      ]
     },
     "execution_count": 21,
     "metadata": {},
     "output_type": "execute_result"
    },
    {
     "data": {
      "image/png": "[encoded data removed]",
      "text/plain": [
       "<Figure size 432x288 with 1 Axes>"
      ]
     },
     "metadata": {
      "needs_background": "light"
     },
     "output_type": "display_data"
    }
   ],
   "source": [
    "count_classes = pd.value_counts(data['Class'],sort=True).sort_index()\n",
    "ax = sns.barplot(x=count_classes.index, y=tuple(count_classes/len(data)))\n",
    "ax.set_title('Frequency Percentage by Class')\n",
    "ax.set_xlabel('Class')\n",
    "ax.set_ylabel('Frequency Percentage')"
   ]
  },
  {
   "cell_type": "code",
   "execution_count": 22,
   "metadata": {
    "ExecuteTime": {
     "end_time": "2019-10-10T06:45:10.989025Z",
     "start_time": "2019-10-10T06:45:10.980601Z"
    },
    "pycharm": {
     "is_executing": false
    }
   },
   "outputs": [],
   "source": [
    "# Model Preparation"
   ]
  },
  {
   "cell_type": "code",
   "execution_count": 23,
   "metadata": {
    "ExecuteTime": {
     "end_time": "2019-10-10T06:45:11.384491Z",
     "start_time": "2019-10-10T06:45:11.000510Z"
    },
    "pycharm": {
     "is_executing": false
    }
   },
   "outputs": [],
   "source": [
    "X_train, X_test, y_train, y_test = train_test_split(dataX, \n",
    "                                    dataY, test_size=0.33, \n",
    "                                    random_state=2018, stratify=dataY)"
   ]
  },
  {
   "cell_type": "code",
   "execution_count": 24,
   "metadata": {
    "ExecuteTime": {
     "end_time": "2019-10-10T06:45:11.423355Z",
     "start_time": "2019-10-10T06:45:11.408044Z"
    },
    "pycharm": {
     "is_executing": false
    }
   },
   "outputs": [
    {
     "data": {
      "text/plain": [
       "190820"
      ]
     },
     "execution_count": 24,
     "metadata": {},
     "output_type": "execute_result"
    }
   ],
   "source": [
    "len(X_train)"
   ]
  },
  {
   "cell_type": "code",
   "execution_count": 25,
   "metadata": {
    "ExecuteTime": {
     "end_time": "2019-10-10T06:45:11.448443Z",
     "start_time": "2019-10-10T06:45:11.432928Z"
    },
    "pycharm": {
     "is_executing": false
    }
   },
   "outputs": [
    {
     "data": {
      "text/plain": [
       "93987"
      ]
     },
     "execution_count": 25,
     "metadata": {},
     "output_type": "execute_result"
    }
   ],
   "source": [
    "len(X_test)"
   ]
  },
  {
   "cell_type": "code",
   "execution_count": 26,
   "metadata": {
    "ExecuteTime": {
     "end_time": "2019-10-10T06:45:11.470047Z",
     "start_time": "2019-10-10T06:45:11.452928Z"
    },
    "pycharm": {
     "is_executing": false
    }
   },
   "outputs": [
    {
     "data": {
      "text/plain": [
       "0.0017293784718582959"
      ]
     },
     "execution_count": 26,
     "metadata": {},
     "output_type": "execute_result"
    }
   ],
   "source": [
    "y_train.sum()/len(y_train)"
   ]
  },
  {
   "cell_type": "code",
   "execution_count": 27,
   "metadata": {
    "ExecuteTime": {
     "end_time": "2019-10-10T06:45:11.486568Z",
     "start_time": "2019-10-10T06:45:11.474995Z"
    },
    "pycharm": {
     "is_executing": false
    }
   },
   "outputs": [
    {
     "data": {
      "text/plain": [
       "0.0017236426314277506"
      ]
     },
     "execution_count": 27,
     "metadata": {},
     "output_type": "execute_result"
    }
   ],
   "source": [
    "y_test.sum()/len(y_test)"
   ]
  },
  {
   "cell_type": "code",
   "execution_count": 28,
   "metadata": {
    "ExecuteTime": {
     "end_time": "2019-10-10T06:45:11.498815Z",
     "start_time": "2019-10-10T06:45:11.488631Z"
    },
    "pycharm": {
     "is_executing": false
    }
   },
   "outputs": [],
   "source": [
    "k_fold = StratifiedKFold(n_splits=5,shuffle=True,random_state=2018)"
   ]
  },
  {
   "cell_type": "code",
   "execution_count": 29,
   "metadata": {
    "ExecuteTime": {
     "end_time": "2019-10-10T06:45:11.508582Z",
     "start_time": "2019-10-10T06:45:11.504000Z"
    },
    "pycharm": {
     "is_executing": false
    }
   },
   "outputs": [],
   "source": [
    "# Logistic Regression"
   ]
  },
  {
   "cell_type": "code",
   "execution_count": 30,
   "metadata": {
    "ExecuteTime": {
     "end_time": "2019-10-10T06:45:11.523845Z",
     "start_time": "2019-10-10T06:45:11.512842Z"
    },
    "pycharm": {
     "is_executing": false
    }
   },
   "outputs": [],
   "source": [
    "penalty = 'l2'\n",
    "C = 1.0\n",
    "class_weight = 'balanced'\n",
    "random_state = 2018\n",
    "solver = 'liblinear'\n",
    "n_jobs = 1\n",
    "\n",
    "logReg = LogisticRegression(penalty=penalty, C=C, \n",
    "            class_weight=class_weight, random_state=random_state, \n",
    "                            solver=solver, n_jobs=n_jobs)"
   ]
  },
  {
   "cell_type": "code",
   "execution_count": 31,
   "metadata": {
    "ExecuteTime": {
     "end_time": "2019-10-10T06:45:29.863535Z",
     "start_time": "2019-10-10T06:45:11.545754Z"
    },
    "pycharm": {
     "is_executing": false
    }
   },
   "outputs": [
    {
     "name": "stdout",
     "output_type": "stream",
     "text": [
      "Training Log Loss:  0.103122401282046\n",
      "CV Log Loss:  0.10891481721640689\n",
      "Training Log Loss:  0.10808660704116761\n",
      "CV Log Loss:  0.10349838148908366\n",
      "Training Log Loss:  0.09324105031792398\n",
      "CV Log Loss:  0.09491764043231328\n",
      "Training Log Loss:  0.11762193618123487\n",
      "CV Log Loss:  0.11830115762931107\n",
      "Training Log Loss:  0.12369337396868395\n",
      "CV Log Loss:  0.12197641994687637\n",
      "Logistic Regression Log Loss:  0.10952168334279824\n"
     ]
    }
   ],
   "source": [
    "trainingScores = []\n",
    "cvScores = []\n",
    "predictionsBasedOnKFolds = pd.DataFrame(data=[],\n",
    "                                        index=y_train.index,columns=[0,1])\n",
    "\n",
    "model = logReg\n",
    "\n",
    "for train_index, cv_index in k_fold.split(np.zeros(len(X_train))\n",
    "                                          ,y_train.ravel()):\n",
    "    X_train_fold, X_cv_fold = X_train.iloc[train_index,:], \\\n",
    "        X_train.iloc[cv_index,:]\n",
    "    y_train_fold, y_cv_fold = y_train.iloc[train_index], \\\n",
    "        y_train.iloc[cv_index]\n",
    "    \n",
    "    model.fit(X_train_fold, y_train_fold)\n",
    "    loglossTraining = log_loss(y_train_fold, \n",
    "                               model.predict_proba(X_train_fold)[:,1])\n",
    "    trainingScores.append(loglossTraining)\n",
    "    \n",
    "    predictionsBasedOnKFolds.loc[X_cv_fold.index,:] = \\\n",
    "        model.predict_proba(X_cv_fold)  \n",
    "    loglossCV = log_loss(y_cv_fold, \n",
    "                         predictionsBasedOnKFolds.loc[X_cv_fold.index,1])\n",
    "    cvScores.append(loglossCV)\n",
    "    \n",
    "    print('Training Log Loss: ', loglossTraining)\n",
    "    print('CV Log Loss: ', loglossCV)\n",
    "    \n",
    "loglossLogisticRegression = log_loss(y_train, \n",
    "                                     predictionsBasedOnKFolds.loc[:,1])\n",
    "print('Logistic Regression Log Loss: ', loglossLogisticRegression)"
   ]
  },
  {
   "cell_type": "code",
   "execution_count": 32,
   "metadata": {
    "ExecuteTime": {
     "end_time": "2019-10-10T06:45:29.886913Z",
     "start_time": "2019-10-10T06:45:29.867088Z"
    },
    "pycharm": {
     "is_executing": false
    }
   },
   "outputs": [],
   "source": [
    "preds = pd.concat([y_train,predictionsBasedOnKFolds.loc[:,1]], axis=1)\n",
    "preds.columns = ['trueLabel','prediction']\n",
    "predictionsBasedOnKFoldsLogisticRegression = preds.copy()"
   ]
  },
  {
   "cell_type": "code",
   "execution_count": 33,
   "metadata": {
    "ExecuteTime": {
     "end_time": "2019-10-10T06:45:30.246794Z",
     "start_time": "2019-10-10T06:45:29.894867Z"
    },
    "pycharm": {
     "is_executing": false
    }
   },
   "outputs": [],
   "source": [
    "precision, recall, thresholds = precision_recall_curve(preds['trueLabel'],\n",
    "                                                       preds['prediction'])"
   ]
  },
  {
   "cell_type": "code",
   "execution_count": 34,
   "metadata": {
    "ExecuteTime": {
     "end_time": "2019-10-10T06:45:30.539469Z",
     "start_time": "2019-10-10T06:45:30.253816Z"
    },
    "pycharm": {
     "is_executing": false
    }
   },
   "outputs": [],
   "source": [
    "average_precision = average_precision_score(preds['trueLabel'],\n",
    "                                            preds['prediction'])"
   ]
  },
  {
   "cell_type": "code",
   "execution_count": 35,
   "metadata": {
    "ExecuteTime": {
     "end_time": "2019-10-10T06:45:31.160814Z",
     "start_time": "2019-10-10T06:45:30.541040Z"
    },
    "pycharm": {
     "is_executing": false
    }
   },
   "outputs": [
    {
     "data": {
      "text/plain": [
       "Text(0.5, 1.0, 'Precision-Recall curve: Average Precision = 0.72')"
      ]
     },
     "execution_count": 35,
     "metadata": {},
     "output_type": "execute_result"
    },
    {
     "data": {
      "image/png": "[encoded data removed]",
      "text/plain": [
       "<Figure size 432x288 with 1 Axes>"
      ]
     },
     "metadata": {
      "needs_background": "light"
     },
     "output_type": "display_data"
    }
   ],
   "source": [
    "plt.step(recall, precision, color='k', alpha=0.7, where='post')\n",
    "plt.fill_between(recall, precision, step='post', alpha=0.3, color='k')\n",
    "\n",
    "plt.xlabel('Recall')\n",
    "plt.ylabel('Precision')\n",
    "plt.ylim([0.0, 1.05])\n",
    "plt.xlim([0.0, 1.0])\n",
    "\n",
    "plt.title('Precision-Recall curve: Average Precision = {0:0.2f}'.format(\n",
    "          average_precision))"
   ]
  },
  {
   "cell_type": "code",
   "execution_count": 36,
   "metadata": {
    "ExecuteTime": {
     "end_time": "2019-10-10T06:45:31.412728Z",
     "start_time": "2019-10-10T06:45:31.165356Z"
    },
    "pycharm": {
     "is_executing": false
    }
   },
   "outputs": [],
   "source": [
    "fpr, tpr, thresholds = roc_curve(preds['trueLabel'],preds['prediction'])"
   ]
  },
  {
   "cell_type": "code",
   "execution_count": 37,
   "metadata": {
    "ExecuteTime": {
     "end_time": "2019-10-10T06:45:31.424092Z",
     "start_time": "2019-10-10T06:45:31.415473Z"
    },
    "pycharm": {
     "is_executing": false
    }
   },
   "outputs": [],
   "source": [
    "areaUnderROC = auc(fpr, tpr)"
   ]
  },
  {
   "cell_type": "code",
   "execution_count": 38,
   "metadata": {
    "ExecuteTime": {
     "end_time": "2019-10-10T06:45:31.586462Z",
     "start_time": "2019-10-10T06:45:31.426324Z"
    },
    "pycharm": {
     "is_executing": false
    }
   },
   "outputs": [
    {
     "data": {
      "image/png": "[encoded data removed]",
      "text/plain": [
       "<Figure size 432x288 with 1 Axes>"
      ]
     },
     "metadata": {
      "needs_background": "light"
     },
     "output_type": "display_data"
    }
   ],
   "source": [
    "plt.figure()\n",
    "plt.plot(fpr, tpr, color='r', lw=2, label='ROC curve')\n",
    "plt.plot([0, 1], [0, 1], color='k', lw=2, linestyle='--')\n",
    "plt.xlim([0.0, 1.0])\n",
    "plt.ylim([0.0, 1.05])\n",
    "plt.xlabel('False Positive Rate')\n",
    "plt.ylabel('True Positive Rate')\n",
    "plt.title('Receiver operating characteristic: \\\n",
    "          Area under the curve = {0:0.2f}'.format(areaUnderROC))\n",
    "plt.legend(loc=\"lower right\")\n",
    "plt.show()"
   ]
  },
  {
   "cell_type": "code",
   "execution_count": 39,
   "metadata": {
    "ExecuteTime": {
     "end_time": "2019-10-10T06:45:31.598454Z",
     "start_time": "2019-10-10T06:45:31.590255Z"
    },
    "pycharm": {
     "is_executing": false
    }
   },
   "outputs": [],
   "source": [
    "n_estimators = 10\n",
    "max_features = 'auto'\n",
    "max_depth = None\n",
    "min_samples_split = 2\n",
    "min_samples_leaf = 1\n",
    "min_weight_fraction_leaf = 0.0\n",
    "max_leaf_nodes = None\n",
    "bootstrap = True\n",
    "oob_score = False\n",
    "n_jobs = -1\n",
    "random_state = 2018\n",
    "class_weight = 'balanced'\n",
    "\n",
    "RFC = RandomForestClassifier(n_estimators=n_estimators, \n",
    "        max_features=max_features, max_depth=max_depth,\n",
    "        min_samples_split=min_samples_split, min_samples_leaf=min_samples_leaf,\n",
    "        min_weight_fraction_leaf=min_weight_fraction_leaf, \n",
    "        max_leaf_nodes=max_leaf_nodes, bootstrap=bootstrap, \n",
    "        oob_score=oob_score, n_jobs=n_jobs, random_state=random_state, \n",
    "        class_weight=class_weight)"
   ]
  },
  {
   "cell_type": "code",
   "execution_count": 40,
   "metadata": {
    "ExecuteTime": {
     "end_time": "2019-10-10T06:45:48.089215Z",
     "start_time": "2019-10-10T06:45:31.601176Z"
    },
    "pycharm": {
     "is_executing": false
    }
   },
   "outputs": [
    {
     "name": "stdout",
     "output_type": "stream",
     "text": [
      "Training Log Loss:  0.00038666468324144877\n",
      "CV Log Loss:  0.0153965105968685\n",
      "Training Log Loss:  0.0004263217817373472\n",
      "CV Log Loss:  0.010755953739346607\n",
      "Training Log Loss:  0.0004088335711949752\n",
      "CV Log Loss:  0.015386056391658222\n",
      "Training Log Loss:  0.000430335389253032\n",
      "CV Log Loss:  0.0047639585692903445\n",
      "Training Log Loss:  0.00045596089565145143\n",
      "CV Log Loss:  0.005619921221138471\n",
      "Random Forests Log Loss:  0.010384480103660427\n"
     ]
    }
   ],
   "source": [
    "trainingScores = []\n",
    "cvScores = []\n",
    "predictionsBasedOnKFolds = pd.DataFrame(data=[],\n",
    "                                        index=y_train.index,columns=[0,1])\n",
    "\n",
    "model = RFC\n",
    "\n",
    "for train_index, cv_index in k_fold.split(np.zeros(len(X_train)),\n",
    "                                          y_train.ravel()):\n",
    "    X_train_fold, X_cv_fold = X_train.iloc[train_index,:], \\\n",
    "        X_train.iloc[cv_index,:]\n",
    "    y_train_fold, y_cv_fold = y_train.iloc[train_index], \\\n",
    "        y_train.iloc[cv_index]\n",
    "    \n",
    "    model.fit(X_train_fold, y_train_fold)\n",
    "    loglossTraining = log_loss(y_train_fold, \\\n",
    "                                model.predict_proba(X_train_fold)[:,1])\n",
    "    trainingScores.append(loglossTraining)\n",
    "    \n",
    "    predictionsBasedOnKFolds.loc[X_cv_fold.index,:] = \\\n",
    "        model.predict_proba(X_cv_fold)  \n",
    "    loglossCV = log_loss(y_cv_fold, \\\n",
    "        predictionsBasedOnKFolds.loc[X_cv_fold.index,1])\n",
    "    cvScores.append(loglossCV)\n",
    "    \n",
    "    print('Training Log Loss: ', loglossTraining)\n",
    "    print('CV Log Loss: ', loglossCV)\n",
    "    \n",
    "loglossRandomForestsClassifier = log_loss(y_train, \n",
    "                                          predictionsBasedOnKFolds.loc[:,1])\n",
    "print('Random Forests Log Loss: ', loglossRandomForestsClassifier)"
   ]
  },
  {
   "cell_type": "code",
   "execution_count": 41,
   "metadata": {
    "ExecuteTime": {
     "end_time": "2019-10-10T06:45:48.687318Z",
     "start_time": "2019-10-10T06:45:48.091638Z"
    },
    "pycharm": {
     "is_executing": false
    }
   },
   "outputs": [
    {
     "data": {
      "image/png": "[encoded data removed]",
      "text/plain": [
       "<Figure size 432x288 with 1 Axes>"
      ]
     },
     "metadata": {
      "needs_background": "light"
     },
     "output_type": "display_data"
    },
    {
     "data": {
      "image/png": "[encoded data removed]",
      "text/plain": [
       "<Figure size 432x288 with 1 Axes>"
      ]
     },
     "metadata": {
      "needs_background": "light"
     },
     "output_type": "display_data"
    }
   ],
   "source": [
    "preds = pd.concat([y_train,predictionsBasedOnKFolds.loc[:,1]], axis=1)\n",
    "preds.columns = ['trueLabel','prediction']\n",
    "predictionsBasedOnKFoldsRandomForests = preds.copy()\n",
    "\n",
    "precision, recall, thresholds = precision_recall_curve(preds['trueLabel'],\n",
    "                                                       preds['prediction'])\n",
    "average_precision = average_precision_score(preds['trueLabel'],\n",
    "                                            preds['prediction'])\n",
    "\n",
    "plt.step(recall, precision, color='k', alpha=0.7, where='post')\n",
    "plt.fill_between(recall, precision, step='post', alpha=0.3, color='k')\n",
    "\n",
    "plt.xlabel('Recall')\n",
    "plt.ylabel('Precision')\n",
    "plt.ylim([0.0, 1.05])\n",
    "plt.xlim([0.0, 1.0])\n",
    "\n",
    "plt.title('Precision-Recall curve: Average Precision = {0:0.2f}'.format(\n",
    "          average_precision))\n",
    "\n",
    "fpr, tpr, thresholds = roc_curve(preds['trueLabel'],preds['prediction'])\n",
    "areaUnderROC = auc(fpr, tpr)\n",
    "\n",
    "plt.figure()\n",
    "plt.plot(fpr, tpr, color='r', lw=2, label='ROC curve')\n",
    "plt.plot([0, 1], [0, 1], color='k', lw=2, linestyle='--')\n",
    "plt.xlim([0.0, 1.0])\n",
    "plt.ylim([0.0, 1.05])\n",
    "plt.xlabel('False Positive Rate')\n",
    "plt.ylabel('True Positive Rate')\n",
    "plt.title('Receiver operating characteristic: \\\n",
    "          Area under the curve = {0:0.2f}'.format(\n",
    "          areaUnderROC))\n",
    "plt.legend(loc=\"lower right\")\n",
    "plt.show()"
   ]
  },
  {
   "cell_type": "code",
   "execution_count": 42,
   "metadata": {
    "ExecuteTime": {
     "end_time": "2019-10-10T06:45:48.703125Z",
     "start_time": "2019-10-10T06:45:48.690493Z"
    },
    "pycharm": {
     "is_executing": false
    }
   },
   "outputs": [],
   "source": [
    "params_xGB = {\n",
    "    'nthread':16, #number of cores\n",
    "    'learning rate': 0.3, #range 0 to 1, default 0.3\n",
    "    'gamma': 0, #range 0 to infinity, default 0 \n",
    "        # increase to reduce complexity (increase bias, reduce variance)\n",
    "    'max_depth': 6, #range 1 to infinity, default 6\n",
    "    'min_child_weight': 1, #range 0 to infinity, default 1\n",
    "    'max_delta_step': 0, #range 0 to infinity, default 0\n",
    "    'subsample': 1.0, #range 0 to 1, default 1\n",
    "        # subsample ratio of the training examples\n",
    "    'colsample_bytree': 1.0, #range 0 to 1, default 1 \n",
    "        # subsample ratio of features\n",
    "    'objective':'binary:logistic',\n",
    "    'num_class':1,\n",
    "    'eval_metric':'logloss',\n",
    "    'seed':2018,\n",
    "    'silent':1\n",
    "}"
   ]
  },
  {
   "cell_type": "code",
   "execution_count": null,
   "metadata": {
    "ExecuteTime": {
     "start_time": "2019-10-10T06:44:58.175Z"
    },
    "pycharm": {
     "is_executing": false
    }
   },
   "outputs": [
    {
     "name": "stderr",
     "output_type": "stream",
     "text": [
      "/anaconda3/envs/unsuper/lib/python3.7/site-packages/xgboost/core.py:587: FutureWarning: Series.base is deprecated and will be removed in a future version\n",
      "  if getattr(data, 'base', None) is not None and \\\n"
     ]
    },
    {
     "name": "stdout",
     "output_type": "stream",
     "text": [
      "[0]\ttrain-logloss:0.437879+1.65843e-05\ttest-logloss:0.438055+8.35952e-05\n",
      "[50]\ttrain-logloss:0.0001296+6.77052e-06\ttest-logloss:0.0028724+0.000628049\n",
      "[100]\ttrain-logloss:5.46e-05+1.62481e-06\ttest-logloss:0.0031214+0.000677471\n",
      "[150]\ttrain-logloss:4.1e-05+1.26491e-06\ttest-logloss:0.0032148+0.000705544\n",
      "[200]\ttrain-logloss:3.48e-05+7.48331e-07\ttest-logloss:0.0032706+0.000710398\n"
     ]
    },
    {
     "name": "stderr",
     "output_type": "stream",
     "text": [
      "/anaconda3/envs/unsuper/lib/python3.7/site-packages/numpy/core/fromnumeric.py:61: FutureWarning: \n",
      "The current behaviour of 'Series.argmin' is deprecated, use 'idxmin'\n",
      "instead.\n",
      "The behavior of 'argmin' will be corrected to return the positional\n",
      "minimum in the future. For now, use 'series.values.argmin' or\n",
      "'np.argmin(np.array(values))' to get the position of the minimum\n",
      "row.\n",
      "  return bound(*args, **kwds)\n"
     ]
    },
    {
     "name": "stdout",
     "output_type": "stream",
     "text": [
      "Training Log Loss:  0.0007995564103719956\n",
      "CV Log Loss:  0.003984720182443181\n"
     ]
    },
    {
     "name": "stderr",
     "output_type": "stream",
     "text": [
      "/anaconda3/envs/unsuper/lib/python3.7/site-packages/xgboost/core.py:587: FutureWarning: Series.base is deprecated and will be removed in a future version\n",
      "  if getattr(data, 'base', None) is not None and \\\n"
     ]
    },
    {
     "name": "stdout",
     "output_type": "stream",
     "text": [
      "[0]\ttrain-logloss:0.437979+5.07133e-05\ttest-logloss:0.43807+1.89357e-05\n"
     ]
    }
   ],
   "source": [
    "trainingScores = []\n",
    "cvScores = []\n",
    "predictionsBasedOnKFolds = pd.DataFrame(data=[],\n",
    "                                    index=y_train.index,columns=['prediction'])\n",
    "\n",
    "for train_index, cv_index in k_fold.split(np.zeros(len(X_train)),\n",
    "                                          y_train.ravel()):\n",
    "    X_train_fold, X_cv_fold = X_train.iloc[train_index,:], \\\n",
    "        X_train.iloc[cv_index,:]\n",
    "    y_train_fold, y_cv_fold = y_train.iloc[train_index], \\\n",
    "        y_train.iloc[cv_index]\n",
    "    \n",
    "    dtrain = xgb.DMatrix(data=X_train_fold, label=y_train_fold)\n",
    "    dCV = xgb.DMatrix(data=X_cv_fold)\n",
    "    \n",
    "    bst = xgb.cv(params_xGB, dtrain, num_boost_round=2000, \n",
    "                 nfold=5, early_stopping_rounds=200, verbose_eval=50)\n",
    "    \n",
    "    best_rounds = np.argmin(bst['test-logloss-mean'])\n",
    "    bst = xgb.train(params_xGB, dtrain, best_rounds)\n",
    "    \n",
    "    loglossTraining = log_loss(y_train_fold, bst.predict(dtrain))\n",
    "    trainingScores.append(loglossTraining)\n",
    "    \n",
    "    predictionsBasedOnKFolds.loc[X_cv_fold.index,'prediction'] = \\\n",
    "        bst.predict(dCV)\n",
    "    loglossCV = log_loss(y_cv_fold, \\\n",
    "        predictionsBasedOnKFolds.loc[X_cv_fold.index,'prediction'])\n",
    "    cvScores.append(loglossCV)\n",
    "    \n",
    "    print('Training Log Loss: ', loglossTraining)\n",
    "    print('CV Log Loss: ', loglossCV)\n",
    "    \n",
    "loglossXGBoostGradientBoosting = \\\n",
    "    log_loss(y_train, predictionsBasedOnKFolds.loc[:,'prediction'])\n",
    "print('XGBoost Gradient Boosting Log Loss: ', loglossXGBoostGradientBoosting)"
   ]
  },
  {
   "cell_type": "code",
   "execution_count": null,
   "metadata": {
    "ExecuteTime": {
     "start_time": "2019-10-10T06:44:58.178Z"
    },
    "pycharm": {
     "is_executing": false
    }
   },
   "outputs": [],
   "source": [
    "preds = pd.concat([y_train,predictionsBasedOnKFolds.loc[:,'prediction']], axis=1)\n",
    "preds.columns = ['trueLabel','prediction']\n",
    "predictionsBasedOnKFoldsXGBoostGradientBoosting = preds.copy()\n",
    "\n",
    "precision, recall, thresholds = \\\n",
    "    precision_recall_curve(preds['trueLabel'],preds['prediction'])\n",
    "average_precision = \\\n",
    "    average_precision_score(preds['trueLabel'],preds['prediction'])\n",
    "\n",
    "plt.step(recall, precision, color='k', alpha=0.7, where='post')\n",
    "plt.fill_between(recall, precision, step='post', alpha=0.3, color='k')\n",
    "\n",
    "plt.xlabel('Recall')\n",
    "plt.ylabel('Precision')\n",
    "plt.ylim([0.0, 1.05])\n",
    "plt.xlim([0.0, 1.0])\n",
    "\n",
    "plt.title('Precision-Recall curve: Average Precision = {0:0.2f}'.format(\n",
    "          average_precision))\n",
    "\n",
    "fpr, tpr, thresholds = roc_curve(preds['trueLabel'],preds['prediction'])\n",
    "areaUnderROC = auc(fpr, tpr)\n",
    "\n",
    "plt.figure()\n",
    "plt.plot(fpr, tpr, color='r', lw=2, label='ROC curve')\n",
    "plt.plot([0, 1], [0, 1], color='k', lw=2, linestyle='--')\n",
    "plt.xlim([0.0, 1.0])\n",
    "plt.ylim([0.0, 1.05])\n",
    "plt.xlabel('False Positive Rate')\n",
    "plt.ylabel('True Positive Rate')\n",
    "plt.title('Receiver operating characteristic: \\\n",
    "        Area under the curve = {0:0.2f}'.format(areaUnderROC))\n",
    "plt.legend(loc=\"lower right\")\n",
    "plt.show()"
   ]
  },
  {
   "cell_type": "code",
   "execution_count": null,
   "metadata": {
    "ExecuteTime": {
     "start_time": "2019-10-10T06:44:58.182Z"
    },
    "pycharm": {
     "is_executing": false
    }
   },
   "outputs": [],
   "source": [
    "params_lightGB = {\n",
    "    'task': 'train',\n",
    "    'application':'binary',\n",
    "    'num_class':1,\n",
    "    'boosting': 'gbdt',\n",
    "    'objective': 'binary',\n",
    "    'metric': 'binary_logloss',\n",
    "    'metric_freq':50,\n",
    "    'is_training_metric':False,\n",
    "    'max_depth':4,\n",
    "    'num_leaves': 31,\n",
    "    'learning_rate': 0.01,\n",
    "    'feature_fraction': 1.0,\n",
    "    'bagging_fraction': 1.0,\n",
    "    'bagging_freq': 0,\n",
    "    'bagging_seed': 2018,\n",
    "    'verbose': 0,\n",
    "    'num_threads':16\n",
    "}"
   ]
  },
  {
   "cell_type": "code",
   "execution_count": null,
   "metadata": {
    "ExecuteTime": {
     "start_time": "2019-10-10T06:44:58.184Z"
    },
    "pycharm": {
     "is_executing": false
    }
   },
   "outputs": [],
   "source": [
    "trainingScores = []\n",
    "cvScores = []\n",
    "predictionsBasedOnKFolds = pd.DataFrame(data=[],\n",
    "                                index=y_train.index,columns=['prediction'])\n",
    "\n",
    "for train_index, cv_index in k_fold.split(np.zeros(len(X_train)),\n",
    "                                          y_train.ravel()):\n",
    "    X_train_fold, X_cv_fold = X_train.iloc[train_index,:], \\\n",
    "        X_train.iloc[cv_index,:]\n",
    "    y_train_fold, y_cv_fold = y_train.iloc[train_index], \\\n",
    "        y_train.iloc[cv_index]\n",
    "    \n",
    "    lgb_train = lgb.Dataset(X_train_fold, y_train_fold)\n",
    "    lgb_eval = lgb.Dataset(X_cv_fold, y_cv_fold, reference=lgb_train)\n",
    "    gbm = lgb.train(params_lightGB, lgb_train, num_boost_round=2000,\n",
    "                   valid_sets=lgb_eval, early_stopping_rounds=200)\n",
    "    \n",
    "    loglossTraining = log_loss(y_train_fold, \\\n",
    "                gbm.predict(X_train_fold, num_iteration=gbm.best_iteration))\n",
    "    trainingScores.append(loglossTraining)\n",
    "    \n",
    "    predictionsBasedOnKFolds.loc[X_cv_fold.index,'prediction'] = \\\n",
    "        gbm.predict(X_cv_fold, num_iteration=gbm.best_iteration) \n",
    "    loglossCV = log_loss(y_cv_fold, \\\n",
    "        predictionsBasedOnKFolds.loc[X_cv_fold.index,'prediction'])\n",
    "    cvScores.append(loglossCV)\n",
    "    \n",
    "    print('Training Log Loss: ', loglossTraining)\n",
    "    print('CV Log Loss: ', loglossCV)\n",
    "    \n",
    "loglossLightGBMGradientBoosting = \\\n",
    "    log_loss(y_train, predictionsBasedOnKFolds.loc[:,'prediction'])\n",
    "print('LightGBM Gradient Boosting Log Loss: ', loglossLightGBMGradientBoosting)"
   ]
  },
  {
   "cell_type": "code",
   "execution_count": null,
   "metadata": {
    "ExecuteTime": {
     "start_time": "2019-10-10T06:44:58.187Z"
    },
    "pycharm": {
     "is_executing": false
    }
   },
   "outputs": [],
   "source": [
    "preds = pd.concat([y_train,predictionsBasedOnKFolds.loc[:,'prediction']], axis=1)\n",
    "preds.columns = ['trueLabel','prediction']\n",
    "predictionsBasedOnKFoldsLightGBMGradientBoosting = preds.copy()\n",
    "\n",
    "precision, recall, thresholds = \\\n",
    "    precision_recall_curve(preds['trueLabel'],preds['prediction'])\n",
    "average_precision = \\\n",
    "    average_precision_score(preds['trueLabel'],preds['prediction'])\n",
    "\n",
    "plt.step(recall, precision, color='k', alpha=0.7, where='post')\n",
    "plt.fill_between(recall, precision, step='post', alpha=0.3, color='k')\n",
    "\n",
    "plt.xlabel('Recall')\n",
    "plt.ylabel('Precision')\n",
    "plt.ylim([0.0, 1.05])\n",
    "plt.xlim([0.0, 1.0])\n",
    "\n",
    "plt.title('Precision-Recall curve: Average Precision = {0:0.2f}'.format(\n",
    "          average_precision))\n",
    "\n",
    "fpr, tpr, thresholds = roc_curve(preds['trueLabel'],preds['prediction'])\n",
    "areaUnderROC = auc(fpr, tpr)\n",
    "\n",
    "plt.figure()\n",
    "plt.plot(fpr, tpr, color='r', lw=2, label='ROC curve')\n",
    "plt.plot([0, 1], [0, 1], color='k', lw=2, linestyle='--')\n",
    "plt.xlim([0.0, 1.0])\n",
    "plt.ylim([0.0, 1.05])\n",
    "plt.xlabel('False Positive Rate')\n",
    "plt.ylabel('True Positive Rate')\n",
    "plt.title('Receiver operating characteristic: \\\n",
    "Area under the curve = {0:0.2f}'.format(areaUnderROC))\n",
    "plt.legend(loc=\"lower right\")\n",
    "plt.show()"
   ]
  },
  {
   "cell_type": "code",
   "execution_count": null,
   "metadata": {
    "ExecuteTime": {
     "start_time": "2019-10-10T06:44:58.190Z"
    },
    "pycharm": {
     "is_executing": false
    }
   },
   "outputs": [],
   "source": [
    "# Test Set Evaluation"
   ]
  },
  {
   "cell_type": "code",
   "execution_count": null,
   "metadata": {
    "ExecuteTime": {
     "start_time": "2019-10-10T06:44:58.193Z"
    },
    "pycharm": {
     "is_executing": false
    }
   },
   "outputs": [],
   "source": [
    "predictionsTestSetLogisticRegression = pd.DataFrame(data=[],index=y_test.index,columns=['prediction'])\n",
    "predictionsTestSetLogisticRegression.loc[:,'prediction'] = logReg.predict_proba(X_test)[:,1]\n",
    "logLossTestSetLogisticRegression = log_loss(y_test, predictionsTestSetLogisticRegression)"
   ]
  },
  {
   "cell_type": "code",
   "execution_count": null,
   "metadata": {
    "ExecuteTime": {
     "start_time": "2019-10-10T06:44:58.196Z"
    },
    "pycharm": {
     "is_executing": false
    }
   },
   "outputs": [],
   "source": [
    "predictionsTestSetRandomForests = \\\n",
    "    pd.DataFrame(data=[],index=y_test.index,columns=['prediction'])\n",
    "predictionsTestSetRandomForests.loc[:,'prediction'] = \\\n",
    "    RFC.predict_proba(X_test)[:,1]\n",
    "logLossTestSetRandomForests = \\\n",
    "    log_loss(y_test, predictionsTestSetRandomForests)"
   ]
  },
  {
   "cell_type": "code",
   "execution_count": null,
   "metadata": {
    "ExecuteTime": {
     "start_time": "2019-10-10T06:44:58.198Z"
    },
    "pycharm": {
     "is_executing": false
    }
   },
   "outputs": [],
   "source": [
    "predictionsTestSetXGBoostGradientBoosting = \\\n",
    "    pd.DataFrame(data=[],index=y_test.index,columns=['prediction'])\n",
    "dtest = xgb.DMatrix(data=X_test)\n",
    "predictionsTestSetXGBoostGradientBoosting.loc[:,'prediction'] = \\\n",
    "    bst.predict(dtest)\n",
    "logLossTestSetXGBoostGradientBoosting = \\\n",
    "    log_loss(y_test, predictionsTestSetXGBoostGradientBoosting)"
   ]
  },
  {
   "cell_type": "code",
   "execution_count": null,
   "metadata": {
    "ExecuteTime": {
     "start_time": "2019-10-10T06:44:58.201Z"
    },
    "pycharm": {
     "is_executing": false
    }
   },
   "outputs": [],
   "source": [
    "predictionsTestSetLightGBMGradientBoosting = \\\n",
    "    pd.DataFrame(data=[],index=y_test.index,columns=['prediction'])\n",
    "predictionsTestSetLightGBMGradientBoosting.loc[:,'prediction'] = \\\n",
    "    gbm.predict(X_test, num_iteration=gbm.best_iteration)\n",
    "logLossTestSetLightGBMGradientBoosting = \\\n",
    "    log_loss(y_test, predictionsTestSetLightGBMGradientBoosting)"
   ]
  },
  {
   "cell_type": "code",
   "execution_count": null,
   "metadata": {
    "ExecuteTime": {
     "start_time": "2019-10-10T06:44:58.204Z"
    },
    "pycharm": {
     "is_executing": false
    }
   },
   "outputs": [],
   "source": [
    "print(\"Log Loss of Logistic Regression on Test Set: \", \\\n",
    "          logLossTestSetLogisticRegression)\n",
    "print(\"Log Loss of Random Forests on Test Set: \", \\\n",
    "          logLossTestSetRandomForests)\n",
    "print(\"Log Loss of XGBoost Gradient Boosting on Test Set: \", \\\n",
    "          logLossTestSetXGBoostGradientBoosting)\n",
    "print(\"Log Loss of LightGBM Gradient Boosting on Test Set: \", \\\n",
    "          logLossTestSetLightGBMGradientBoosting)"
   ]
  },
  {
   "cell_type": "code",
   "execution_count": null,
   "metadata": {
    "ExecuteTime": {
     "start_time": "2019-10-10T06:44:58.206Z"
    },
    "pycharm": {
     "is_executing": false
    }
   },
   "outputs": [],
   "source": [
    "precision, recall, thresholds = \\\n",
    "    precision_recall_curve(y_test,predictionsTestSetLogisticRegression)\n",
    "average_precision = \\\n",
    "    average_precision_score(y_test,predictionsTestSetLogisticRegression)\n",
    "\n",
    "plt.step(recall, precision, color='k', alpha=0.7, where='post')\n",
    "plt.fill_between(recall, precision, step='post', alpha=0.3, color='k')\n",
    "\n",
    "plt.xlabel('Recall')\n",
    "plt.ylabel('Precision')\n",
    "plt.ylim([0.0, 1.05])\n",
    "plt.xlim([0.0, 1.0])\n",
    "\n",
    "plt.title('Precision-Recall curve: Average Precision = {0:0.2f}'.format(\n",
    "          average_precision))\n",
    "\n",
    "fpr, tpr, thresholds = roc_curve(y_test,predictionsTestSetLogisticRegression)\n",
    "areaUnderROC = auc(fpr, tpr)\n",
    "\n",
    "plt.figure()\n",
    "plt.plot(fpr, tpr, color='r', lw=2, label='ROC curve')\n",
    "plt.plot([0, 1], [0, 1], color='k', lw=2, linestyle='--')\n",
    "plt.xlim([0.0, 1.0])\n",
    "plt.ylim([0.0, 1.05])\n",
    "plt.xlabel('False Positive Rate')\n",
    "plt.ylabel('True Positive Rate')\n",
    "plt.title('Receiver operating characteristic: \\\n",
    "Area under the curve = {0:0.2f}'.format(areaUnderROC))\n",
    "plt.legend(loc=\"lower right\")\n",
    "plt.show()"
   ]
  },
  {
   "cell_type": "code",
   "execution_count": null,
   "metadata": {
    "ExecuteTime": {
     "start_time": "2019-10-10T06:44:58.209Z"
    },
    "pycharm": {
     "is_executing": false
    }
   },
   "outputs": [],
   "source": [
    "precision, recall, thresholds = \\\n",
    "    precision_recall_curve(y_test,predictionsTestSetRandomForests)\n",
    "average_precision = \\\n",
    "    average_precision_score(y_test,predictionsTestSetRandomForests)\n",
    "\n",
    "plt.step(recall, precision, color='k', alpha=0.7, where='post')\n",
    "plt.fill_between(recall, precision, step='post', alpha=0.3, color='k')\n",
    "\n",
    "plt.xlabel('Recall')\n",
    "plt.ylabel('Precision')\n",
    "plt.ylim([0.0, 1.05])\n",
    "plt.xlim([0.0, 1.0])\n",
    "\n",
    "plt.title('Precision-Recall curve: Average Precision = {0:0.2f}'.format(\n",
    "          average_precision))\n",
    "\n",
    "fpr, tpr, thresholds = roc_curve(y_test,predictionsTestSetRandomForests)\n",
    "areaUnderROC = auc(fpr, tpr)\n",
    "\n",
    "plt.figure()\n",
    "plt.plot(fpr, tpr, color='r', lw=2, label='ROC curve')\n",
    "plt.plot([0, 1], [0, 1], color='k', lw=2, linestyle='--')\n",
    "plt.xlim([0.0, 1.0])\n",
    "plt.ylim([0.0, 1.05])\n",
    "plt.xlabel('False Positive Rate')\n",
    "plt.ylabel('True Positive Rate')\n",
    "plt.title('Receiver operating characteristic: \\\n",
    "Area under the curve = {0:0.2f}'.format(areaUnderROC))\n",
    "plt.legend(loc=\"lower right\")\n",
    "plt.show()"
   ]
  },
  {
   "cell_type": "code",
   "execution_count": null,
   "metadata": {
    "ExecuteTime": {
     "start_time": "2019-10-10T06:44:58.211Z"
    },
    "pycharm": {
     "is_executing": false
    }
   },
   "outputs": [],
   "source": [
    "precision, recall, thresholds = \\\n",
    "    precision_recall_curve(y_test,predictionsTestSetXGBoostGradientBoosting)\n",
    "average_precision = \\\n",
    "    average_precision_score(y_test,predictionsTestSetXGBoostGradientBoosting)\n",
    "\n",
    "plt.step(recall, precision, color='k', alpha=0.7, where='post')\n",
    "plt.fill_between(recall, precision, step='post', alpha=0.3, color='k')\n",
    "\n",
    "plt.xlabel('Recall')\n",
    "plt.ylabel('Precision')\n",
    "plt.ylim([0.0, 1.05])\n",
    "plt.xlim([0.0, 1.0])\n",
    "\n",
    "plt.title('Precision-Recall curve: Average Precision = {0:0.2f}'.format(\n",
    "          average_precision))\n",
    "\n",
    "fpr, tpr, thresholds = \\\n",
    "    roc_curve(y_test,predictionsTestSetXGBoostGradientBoosting)\n",
    "areaUnderROC = auc(fpr, tpr)\n",
    "\n",
    "plt.figure()\n",
    "plt.plot(fpr, tpr, color='r', lw=2, label='ROC curve')\n",
    "plt.plot([0, 1], [0, 1], color='k', lw=2, linestyle='--')\n",
    "plt.xlim([0.0, 1.0])\n",
    "plt.ylim([0.0, 1.05])\n",
    "plt.xlabel('False Positive Rate')\n",
    "plt.ylabel('True Positive Rate')\n",
    "plt.title('Receiver operating characteristic: \\\n",
    "Area under the curve = {0:0.2f}'.format(areaUnderROC))\n",
    "plt.legend(loc=\"lower right\")\n",
    "plt.show()"
   ]
  },
  {
   "cell_type": "code",
   "execution_count": null,
   "metadata": {
    "ExecuteTime": {
     "start_time": "2019-10-10T06:44:58.214Z"
    },
    "pycharm": {
     "is_executing": false
    }
   },
   "outputs": [],
   "source": [
    "precision, recall, thresholds = \\\n",
    "    precision_recall_curve(y_test,predictionsTestSetLightGBMGradientBoosting)\n",
    "average_precision = \\\n",
    "    average_precision_score(y_test,predictionsTestSetLightGBMGradientBoosting)\n",
    "\n",
    "plt.step(recall, precision, color='k', alpha=0.7, where='post')\n",
    "plt.fill_between(recall, precision, step='post', alpha=0.3, color='k')\n",
    "\n",
    "plt.xlabel('Recall')\n",
    "plt.ylabel('Precision')\n",
    "plt.ylim([0.0, 1.05])\n",
    "plt.xlim([0.0, 1.0])\n",
    "\n",
    "plt.title('Precision-Recall curve: Average Precision = {0:0.2f}'.format(\n",
    "          average_precision))\n",
    "\n",
    "fpr, tpr, thresholds = \\\n",
    "    roc_curve(y_test,predictionsTestSetLightGBMGradientBoosting)\n",
    "areaUnderROC = auc(fpr, tpr)\n",
    "\n",
    "plt.figure()\n",
    "plt.plot(fpr, tpr, color='r', lw=2, label='ROC curve')\n",
    "plt.plot([0, 1], [0, 1], color='k', lw=2, linestyle='--')\n",
    "plt.xlim([0.0, 1.0])\n",
    "plt.ylim([0.0, 1.05])\n",
    "plt.xlabel('False Positive Rate')\n",
    "plt.ylabel('True Positive Rate')\n",
    "plt.title('Receiver operating characteristic: \\\n",
    "Area under the curve = {0:0.2f}'.format(areaUnderROC))\n",
    "plt.legend(loc=\"lower right\")\n",
    "plt.show()"
   ]
  },
  {
   "cell_type": "code",
   "execution_count": null,
   "metadata": {
    "ExecuteTime": {
     "start_time": "2019-10-10T06:44:58.216Z"
    },
    "pycharm": {
     "is_executing": false
    }
   },
   "outputs": [],
   "source": [
    "# Ensemble"
   ]
  },
  {
   "cell_type": "code",
   "execution_count": null,
   "metadata": {
    "ExecuteTime": {
     "start_time": "2019-10-10T06:44:58.218Z"
    },
    "pycharm": {
     "is_executing": false
    }
   },
   "outputs": [],
   "source": [
    "predictionsBasedOnKFoldsFourModels = pd.DataFrame(data=[],index=y_train.index)\n",
    "predictionsBasedOnKFoldsFourModels = predictionsBasedOnKFoldsFourModels.join(\n",
    "    predictionsBasedOnKFoldsLogisticRegression['prediction'].astype(float), \\\n",
    "    how='left').join(predictionsBasedOnKFoldsRandomForests['prediction'] \\\n",
    "    .astype(float),how='left',rsuffix=\"2\").join( \\\n",
    "    predictionsBasedOnKFoldsXGBoostGradientBoosting['prediction'].astype(float), \\\n",
    "    how='left',rsuffix=\"3\").join( \\\n",
    "    predictionsBasedOnKFoldsLightGBMGradientBoosting['prediction'].astype(float), \\\n",
    "    how='left',rsuffix=\"4\")\n",
    "predictionsBasedOnKFoldsFourModels.columns = \\\n",
    "    ['predsLR','predsRF','predsXGB','predsLightGBM']"
   ]
  },
  {
   "cell_type": "code",
   "execution_count": null,
   "metadata": {
    "ExecuteTime": {
     "start_time": "2019-10-10T06:44:58.222Z"
    },
    "pycharm": {
     "is_executing": false
    }
   },
   "outputs": [],
   "source": [
    "X_trainWithPredictions = \\\n",
    "    X_train.merge(predictionsBasedOnKFoldsFourModels,\n",
    "                  left_index=True,right_index=True)"
   ]
  },
  {
   "cell_type": "code",
   "execution_count": null,
   "metadata": {
    "ExecuteTime": {
     "start_time": "2019-10-10T06:44:58.225Z"
    },
    "pycharm": {
     "is_executing": false
    }
   },
   "outputs": [],
   "source": [
    "params_lightGB = {\n",
    "    'task': 'train',\n",
    "    'application':'binary',\n",
    "    'num_class':1,\n",
    "    'boosting': 'gbdt',\n",
    "    'objective': 'binary',\n",
    "    'metric': 'binary_logloss',\n",
    "    'metric_freq':50,\n",
    "    'is_training_metric':False,\n",
    "    'max_depth':4,\n",
    "    'num_leaves': 31,\n",
    "    'learning_rate': 0.01,\n",
    "    'feature_fraction': 1.0,\n",
    "    'bagging_fraction': 1.0,\n",
    "    'bagging_freq': 0,\n",
    "    'bagging_seed': 2018,\n",
    "    'verbose': 0,\n",
    "    'num_threads':16\n",
    "}"
   ]
  },
  {
   "cell_type": "code",
   "execution_count": null,
   "metadata": {
    "ExecuteTime": {
     "start_time": "2019-10-10T06:44:58.227Z"
    },
    "pycharm": {
     "is_executing": false
    }
   },
   "outputs": [],
   "source": [
    "trainingScores = []\n",
    "cvScores = []\n",
    "predictionsBasedOnKFoldsEnsemble = \\\n",
    "    pd.DataFrame(data=[],index=y_train.index,columns=['prediction'])\n",
    "\n",
    "for train_index, cv_index in k_fold.split(np.zeros(len(X_train)), \\\n",
    "                                          y_train.ravel()):\n",
    "    X_train_fold, X_cv_fold = \\\n",
    "        X_trainWithPredictions.iloc[train_index,:], \\\n",
    "        X_trainWithPredictions.iloc[cv_index,:]\n",
    "    y_train_fold, y_cv_fold = y_train.iloc[train_index], y_train.iloc[cv_index]\n",
    "    \n",
    "    lgb_train = lgb.Dataset(X_train_fold, y_train_fold)\n",
    "    lgb_eval = lgb.Dataset(X_cv_fold, y_cv_fold, reference=lgb_train)\n",
    "    gbm = lgb.train(params_lightGB, lgb_train, num_boost_round=2000,\n",
    "                   valid_sets=lgb_eval, early_stopping_rounds=200)\n",
    "    \n",
    "    loglossTraining = log_loss(y_train_fold, \\\n",
    "        gbm.predict(X_train_fold, num_iteration=gbm.best_iteration))\n",
    "    trainingScores.append(loglossTraining)\n",
    "    \n",
    "    predictionsBasedOnKFoldsEnsemble.loc[X_cv_fold.index,'prediction'] = \\\n",
    "        gbm.predict(X_cv_fold, num_iteration=gbm.best_iteration) \n",
    "    loglossCV = log_loss(y_cv_fold, \\\n",
    "        predictionsBasedOnKFoldsEnsemble.loc[X_cv_fold.index,'prediction'])\n",
    "    cvScores.append(loglossCV)\n",
    "    \n",
    "    print('Training Log Loss: ', loglossTraining)\n",
    "    print('CV Log Loss: ', loglossCV)\n",
    "    \n",
    "loglossEnsemble = log_loss(y_train, \\\n",
    "        predictionsBasedOnKFoldsEnsemble.loc[:,'prediction'])\n",
    "print('Ensemble Log Loss: ', loglossEnsemble)"
   ]
  },
  {
   "cell_type": "code",
   "execution_count": null,
   "metadata": {
    "ExecuteTime": {
     "start_time": "2019-10-10T06:44:58.230Z"
    },
    "pycharm": {
     "is_executing": false
    }
   },
   "outputs": [],
   "source": [
    "print('Feature importances:', list(gbm.feature_importance()))"
   ]
  },
  {
   "cell_type": "code",
   "execution_count": null,
   "metadata": {
    "ExecuteTime": {
     "start_time": "2019-10-10T06:44:58.233Z"
    },
    "pycharm": {
     "is_executing": false
    }
   },
   "outputs": [],
   "source": [
    "preds = pd.concat([y_train,predictionsBasedOnKFoldsEnsemble.loc[:,'prediction']], axis=1)\n",
    "preds.columns = ['trueLabel','prediction']\n",
    "\n",
    "precision, recall, thresholds = \\\n",
    "    precision_recall_curve(preds['trueLabel'],preds['prediction'])\n",
    "average_precision = \\\n",
    "    average_precision_score(preds['trueLabel'],preds['prediction'])\n",
    "\n",
    "plt.step(recall, precision, color='k', alpha=0.7, where='post')\n",
    "plt.fill_between(recall, precision, step='post', alpha=0.3, color='k')\n",
    "\n",
    "plt.xlabel('Recall')\n",
    "plt.ylabel('Precision')\n",
    "plt.ylim([0.0, 1.05])\n",
    "plt.xlim([0.0, 1.0])\n",
    "\n",
    "plt.title('Precision-Recall curve: Average Precision = {0:0.2f}'.format(\n",
    "          average_precision))\n",
    "\n",
    "fpr, tpr, thresholds = roc_curve(preds['trueLabel'],preds['prediction'])\n",
    "areaUnderROC = auc(fpr, tpr)\n",
    "\n",
    "plt.figure()\n",
    "plt.plot(fpr, tpr, color='r', lw=2, label='ROC curve')\n",
    "plt.plot([0, 1], [0, 1], color='k', lw=2, linestyle='--')\n",
    "plt.xlim([0.0, 1.0])\n",
    "plt.ylim([0.0, 1.05])\n",
    "plt.xlabel('False Positive Rate')\n",
    "plt.ylabel('True Positive Rate')\n",
    "plt.title('Receiver operating characteristic: \\\n",
    "Area under the curve = {0:0.2f}'.format(areaUnderROC))\n",
    "plt.legend(loc=\"lower right\")\n",
    "plt.show()"
   ]
  },
  {
   "cell_type": "code",
   "execution_count": null,
   "metadata": {
    "ExecuteTime": {
     "start_time": "2019-10-10T06:44:58.237Z"
    },
    "pycharm": {
     "is_executing": false
    }
   },
   "outputs": [],
   "source": [
    "scatterData = predictionsTestSetLightGBMGradientBoosting.join(y_test,how='left')\n",
    "scatterData.columns = ['Predicted Probability','True Label']\n",
    "ax = sns.regplot(x=\"True Label\", y=\"Predicted Probability\", color='k', \n",
    "                 fit_reg=False, scatter_kws={'alpha':0.1},\n",
    "                 data=scatterData).set_title( \\\n",
    "                'Plot of Prediction Probabilities and the True Label')"
   ]
  },
  {
   "cell_type": "code",
   "execution_count": null,
   "metadata": {
    "ExecuteTime": {
     "start_time": "2019-10-10T06:44:58.239Z"
    },
    "pycharm": {
     "is_executing": false
    }
   },
   "outputs": [],
   "source": [
    "scatterDataMelted = pd.melt(scatterData, \"True Label\", \\\n",
    "                            var_name=\"Predicted Probability\")\n",
    "ax = sns.stripplot(x=\"value\", y=\"Predicted Probability\", \\\n",
    "                   hue='True Label', jitter=0.4, \\\n",
    "                   data=scatterDataMelted).set_title( \\\n",
    "                   'Plot of Prediction Probabilities and the True Label')"
   ]
  },
  {
   "cell_type": "code",
   "execution_count": null,
   "metadata": {
    "ExecuteTime": {
     "start_time": "2019-10-10T06:44:58.242Z"
    },
    "pycharm": {
     "is_executing": false
    }
   },
   "outputs": [],
   "source": [
    "'''Pipeline for New Data'''\n",
    "# first, import new data into a dataframe called 'newData'\n",
    "# second, scale data\n",
    "# newData.loc[:,featuresToScale] = sX.transform(newData[featuresToScale])\n",
    "# third, predict using LightGBM\n",
    "# gbm.predict(newData, num_iteration=gbm.best_iteration)"
   ]
  }
 ],
 "metadata": {
  "anaconda-cloud": {},
  "kernelspec": {
   "display_name": "PyCharm (unsuper)",
   "language": "python",
   "name": "pycharm-ab3b66f8"
  },
  "language_info": {
   "codemirror_mode": {
    "name": "ipython",
    "version": 3
   },
   "file_extension": ".py",
   "mimetype": "text/x-python",
   "name": "python",
   "nbconvert_exporter": "python",
   "pygments_lexer": "ipython3",
   "version": "3.7.4"
  },
  "toc": {
   "base_numbering": 1,
   "nav_menu": {},
   "number_sections": true,
   "sideBar": true,
   "skip_h1_title": false,
   "title_cell": "Table of Contents",
   "title_sidebar": "Contents",
   "toc_cell": false,
   "toc_position": {},
   "toc_section_display": true,
   "toc_window_display": false
  }
 },
 "nbformat": 4,
 "nbformat_minor": 2
}
